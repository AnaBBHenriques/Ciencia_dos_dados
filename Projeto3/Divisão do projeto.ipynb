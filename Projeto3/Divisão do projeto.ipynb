{
 "cells": [
  {
   "cell_type": "markdown",
   "metadata": {},
   "source": [
    "<h2>Divisão do trabalho - Projeto 3 Ciência dos Dados</h2>"
   ]
  },
  {
   "cell_type": "markdown",
   "metadata": {},
   "source": [
    "\n",
    "\n",
    "<h4>Ana Beatriz Bertolucci Henriques:</h4>\n",
    "\n",
    "<ul>\n",
    "  <li>Filtrar dataset </li>\n",
    "  <li>Mexer com Api web do spotify (conseguir dados das músicas com letra para criar o dataframe, criar playlist e adicionar músicas nesta no próprio spotify do usuário)</li>\n",
    "  <li>Validação da clusterização (código da árvore de decisão)</li>\n",
    "  <li>Naive-bayes (pesquisar os tipos e avaliar seu desempenho para as letras das musicas, classificar treinamento e teste e aplicar)</li>\n",
    "  <li>Parte da explicação escrita</li>\n",
    "</ul>  \n",
    "\n",
    "\n",
    "\n",
    "\n",
    "<h4>Anna Beathriz Cipriano de Mauro:</h4>\n",
    "\n",
    "<ul>\n",
    "  <li>Clusterização(pesquisar os tipos, avaliar quais variáveis são pertinentes para clusterização, aplicar no dataset, plotar gráficos visuais de desempenho) </li>\n",
    "  <li>Mexer com a Api do Musixmatch que fornece letra das musicas que não eram abrangidas pelo dataset de lyrics</li>\n",
    "  <li>Interface com Tkinter dialogando com o código em python</li>\n",
    "   <li>Lógica para fazer a recomendação das músicas a</li>\n",
    "  <li>Parte da explicação escrita</li>\n",
    "</ul>  \n",
    "\n"
   ]
  }
 ],
 "metadata": {
  "kernelspec": {
   "display_name": "Python 3",
   "language": "python",
   "name": "python3"
  },
  "language_info": {
   "codemirror_mode": {
    "name": "ipython",
    "version": 3
   },
   "file_extension": ".py",
   "mimetype": "text/x-python",
   "name": "python",
   "nbconvert_exporter": "python",
   "pygments_lexer": "ipython3",
   "version": "3.6.1"
  }
 },
 "nbformat": 4,
 "nbformat_minor": 2
}
