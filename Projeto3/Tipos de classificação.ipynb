{
 "cells": [
  {
   "cell_type": "code",
   "execution_count": 1,
   "metadata": {
    "collapsed": true
   },
   "outputs": [],
   "source": [
    "import matplotlib.pyplot as plt\n",
    "import pandas as pd\n",
    "import csv\n",
    "import nltk \n",
    "from nltk.corpus import stopwords\n",
    "f='class7'\n",
    "d='a/na'"
   ]
  },
  {
   "cell_type": "code",
   "execution_count": 2,
   "metadata": {
    "collapsed": true
   },
   "outputs": [],
   "source": [
    "teste=pd.read_excel(\"treinamento.xlsx\")\n",
    "treinamento=pd.read_excel(\"testemusicas.xlsx\")\n",
    "\n",
    "teste['letra'] = teste['letra'].str.lower()\n",
    "treinamento['letra'] = treinamento['letra'].str.lower()\n"
   ]
  },
  {
   "cell_type": "code",
   "execution_count": 3,
   "metadata": {
    "collapsed": true
   },
   "outputs": [],
   "source": [
    "\n",
    "#Classificador:\n",
    "import matplotlib.pyplot as plt\n",
    "import csv\n",
    "from textblob import TextBlob\n",
    "from nltk.stem import SnowballStemmer \n",
    "snowball_stemmer = SnowballStemmer(\"english\") \n",
    "#Dados:\n",
    "stop = stopwords.words('english')\n",
    "\n",
    "teste['letra'].apply(lambda x: [item for item in x if item not in stop])\n",
    "treinamento['letra'].apply(lambda x: [item for item in x if item not in stop])\n",
    "\n",
    "\n",
    "#Limpando o dataset treinamento\n",
    "for i in range(len(treinamento)):\n",
    "    caract=[',',';','.','!','?',\"(\",\")\", ':', '\"', \"'\",\"\\n\"]      #caracteres que se desejam retirar\n",
    "    palavras = treinamento.loc[i,('letra')].split()         # criando lista de listas de palavras em cada mensagem\n",
    "    letras=[]                                              #lista de lista de letras das palvras\n",
    "    final=[]                                                #lista de mensagens no final do processo\n",
    "    for x in palavras:#passando palavra por palavra\n",
    "        letrasporpalavra=[]                                #lista que irá conter as letras das palavras no for\n",
    "        for a in range(len(x)):                            #passando letra por letra\n",
    "            letrasporpalavra.append(x[a].lower())                   #adicionando cada letra na lista\n",
    "        letras.append(letrasporpalavra)                 #adicionando lista de lista com as letras\n",
    "    for z in letras:                                    #passando item/lista por lista\n",
    "        for w in z:                                     #dentro da lista, passando letra por letra\n",
    "            if w in caract:                            #se estiver entre os caracteres\n",
    "                d=z.index(w)                           #pega o indice desse caracter\n",
    "                z[d] = ' '                             #substitui ele na lista por um espaço\n",
    "    for q in range(len(letras)):                      #q vai passar pelos índices da lista letras (palavra por palavra)\n",
    "        junto = ''.join(letras[q])#junto vai tranformar a lista de letras em palavras           \n",
    "        if len(junto)!=0: \n",
    "            if junto[0] !='@' and junto[0:5]!='https'and junto!= 'rt' and junto[0:3]!='kkk':#retira alguns outros itens\n",
    "                final.append(junto)                 #adiciona na lista final\n",
    "\n",
    "    treinamento.loc[i,('letra')] = ' '.join(final) #junta as palavras das mensagens e substitui as mensagens \n",
    "\n"
   ]
  },
  {
   "cell_type": "code",
   "execution_count": 4,
   "metadata": {
    "collapsed": true
   },
   "outputs": [],
   "source": [
    "#limpando teste\n",
    "\n",
    "for i in range(len(teste)):\n",
    "    caract=[',',';','.','!','?',\"(\",\")\", ':', '\"', \"'\",\"\\n\"]      #caracteres que se desejam retirar\n",
    "    palavras = teste.letra[i].split() # criando lista de listas de palavras em cada mensagem\n",
    "    letras=[]                                              #lista de lista de letras das palvras\n",
    "    final=[]                                                #lista de mensagens no final do processo\n",
    "    for x in palavras:#passando palavra por palavra\n",
    "        letrasporpalavra=[]                                #lista que irá conter as letras das palavras no for\n",
    "        for a in range(len(x)):                            #passando letra por letra\n",
    "            letrasporpalavra.append(x[a].lower())                   #adicionando cada letra na lista\n",
    "            \n",
    "        letras.append(letrasporpalavra)                 #adicionando lista de lista com as letras\n",
    "    for z in letras:                                    #passando item/lista por lista\n",
    "        for w in z:                                     #dentro da lista, passando letra por letra\n",
    "            if w in caract:                            #se estiver entre os caracteres\n",
    "                d=z.index(w)                           #pega o indice desse caracter\n",
    "                z[d] = ' '                             #substitui ele na lista por um espaço\n",
    "    for q in range(len(letras)):                      #q vai passar pelos índices da lista letras (palavra por palavra)\n",
    "        junto = ''.join(letras[q])#junto vai tranformar a lista de letras em palavras           \n",
    "        if len(junto)!=0: \n",
    "            if junto[0] !='@' and junto[0:5]!='https'and junto!= 'rt' and junto[0:3]!='kkk':#retira alguns outros itens\n",
    "                final.append(junto)                 #adiciona na lista final\n",
    "\n",
    "    teste.loc[i,('letra')]= ' '.join(final) #junta as palavras das mensagens e substitui as mensagens \n",
    "\n",
    "\n"
   ]
  },
  {
   "cell_type": "markdown",
   "metadata": {},
   "source": [
    "# Apenas o Naive Bayes:"
   ]
  },
  {
   "cell_type": "markdown",
   "metadata": {},
   "source": [
    "<h4>Positividade</h4>"
   ]
  },
  {
   "cell_type": "code",
   "execution_count": 5,
   "metadata": {},
   "outputs": [
    {
     "name": "stdout",
     "output_type": "stream",
     "text": [
      "\u001b[1m  Classificação Manual X Digital\n"
     ]
    },
    {
     "data": {
      "text/html": [
       "<div>\n",
       "<style>\n",
       "    .dataframe thead tr:only-child th {\n",
       "        text-align: right;\n",
       "    }\n",
       "\n",
       "    .dataframe thead th {\n",
       "        text-align: left;\n",
       "    }\n",
       "\n",
       "    .dataframe tbody tr th {\n",
       "        vertical-align: top;\n",
       "    }\n",
       "</style>\n",
       "<table border=\"1\" class=\"dataframe\">\n",
       "  <thead>\n",
       "    <tr style=\"text-align: right;\">\n",
       "      <th>Manual</th>\n",
       "      <th>rb</th>\n",
       "      <th>rg</th>\n",
       "      <th>All</th>\n",
       "    </tr>\n",
       "    <tr>\n",
       "      <th>Digital</th>\n",
       "      <th></th>\n",
       "      <th></th>\n",
       "      <th></th>\n",
       "    </tr>\n",
       "  </thead>\n",
       "  <tbody>\n",
       "    <tr>\n",
       "      <th>rb</th>\n",
       "      <td>38.983051</td>\n",
       "      <td>20.338983</td>\n",
       "      <td>59.322034</td>\n",
       "    </tr>\n",
       "    <tr>\n",
       "      <th>rg</th>\n",
       "      <td>20.338983</td>\n",
       "      <td>20.338983</td>\n",
       "      <td>40.677966</td>\n",
       "    </tr>\n",
       "    <tr>\n",
       "      <th>All</th>\n",
       "      <td>59.322034</td>\n",
       "      <td>40.677966</td>\n",
       "      <td>100.000000</td>\n",
       "    </tr>\n",
       "  </tbody>\n",
       "</table>\n",
       "</div>"
      ],
      "text/plain": [
       "Manual          rb         rg         All\n",
       "Digital                                  \n",
       "rb       38.983051  20.338983   59.322034\n",
       "rg       20.338983  20.338983   40.677966\n",
       "All      59.322034  40.677966  100.000000"
      ]
     },
     "execution_count": 5,
     "metadata": {},
     "output_type": "execute_result"
    }
   ],
   "source": [
    "import numpy\n",
    "from sklearn.feature_extraction.text import CountVectorizer\n",
    "\n",
    "count_vectorizer = CountVectorizer()\n",
    "counts = count_vectorizer.fit_transform(treinamento['letra'].values)\n",
    "\n",
    "\n",
    "\n",
    "from sklearn.naive_bayes import MultinomialNB\n",
    "\n",
    "classifier = MultinomialNB()\n",
    "targets = treinamento[f].values\n",
    "classifier.fit(counts, targets)\n",
    "\n",
    "\n",
    "example_counts = count_vectorizer.transform(teste[\"letra\"])\n",
    "predictions = classifier.predict(example_counts)\n",
    "predictions \n",
    "manxdig=pd.crosstab(predictions,teste[f],margins=True,rownames=['Digital'] , colnames=['Manual'], normalize=True)*100\n",
    "print('\\033[1m'+'  Classificação Manual X Digital')\n",
    "manxdig\n",
    "\n",
    "\n",
    "\n",
    "\n"
   ]
  },
  {
   "cell_type": "code",
   "execution_count": 6,
   "metadata": {},
   "outputs": [
    {
     "data": {
      "text/plain": [
       "59.322033898305087"
      ]
     },
     "execution_count": 6,
     "metadata": {},
     "output_type": "execute_result"
    }
   ],
   "source": [
    "porcacerto = manxdig.rb.rb+manxdig.rg.rg\n",
    "\n",
    "porcacerto"
   ]
  },
  {
   "cell_type": "markdown",
   "metadata": {},
   "source": [
    "<h4>Amor ou não amor</h4>"
   ]
  },
  {
   "cell_type": "code",
   "execution_count": 7,
   "metadata": {},
   "outputs": [
    {
     "name": "stdout",
     "output_type": "stream",
     "text": [
      "\u001b[1m  Classificação Manual X Digital\n"
     ]
    },
    {
     "data": {
      "text/html": [
       "<div>\n",
       "<style>\n",
       "    .dataframe thead tr:only-child th {\n",
       "        text-align: right;\n",
       "    }\n",
       "\n",
       "    .dataframe thead th {\n",
       "        text-align: left;\n",
       "    }\n",
       "\n",
       "    .dataframe tbody tr th {\n",
       "        vertical-align: top;\n",
       "    }\n",
       "</style>\n",
       "<table border=\"1\" class=\"dataframe\">\n",
       "  <thead>\n",
       "    <tr style=\"text-align: right;\">\n",
       "      <th>Manual</th>\n",
       "      <th>a</th>\n",
       "      <th>na</th>\n",
       "      <th>All</th>\n",
       "    </tr>\n",
       "    <tr>\n",
       "      <th>Digital</th>\n",
       "      <th></th>\n",
       "      <th></th>\n",
       "      <th></th>\n",
       "    </tr>\n",
       "  </thead>\n",
       "  <tbody>\n",
       "    <tr>\n",
       "      <th>a</th>\n",
       "      <td>27.118644</td>\n",
       "      <td>25.423729</td>\n",
       "      <td>52.542373</td>\n",
       "    </tr>\n",
       "    <tr>\n",
       "      <th>na</th>\n",
       "      <td>5.084746</td>\n",
       "      <td>42.372881</td>\n",
       "      <td>47.457627</td>\n",
       "    </tr>\n",
       "    <tr>\n",
       "      <th>All</th>\n",
       "      <td>32.203390</td>\n",
       "      <td>67.796610</td>\n",
       "      <td>100.000000</td>\n",
       "    </tr>\n",
       "  </tbody>\n",
       "</table>\n",
       "</div>"
      ],
      "text/plain": [
       "Manual           a         na         All\n",
       "Digital                                  \n",
       "a        27.118644  25.423729   52.542373\n",
       "na        5.084746  42.372881   47.457627\n",
       "All      32.203390  67.796610  100.000000"
      ]
     },
     "execution_count": 7,
     "metadata": {},
     "output_type": "execute_result"
    }
   ],
   "source": [
    "import numpy\n",
    "from sklearn.feature_extraction.text import CountVectorizer\n",
    "\n",
    "count_vectorizer = CountVectorizer()\n",
    "counts = count_vectorizer.fit_transform(treinamento['letra'].values)\n",
    "\n",
    "\n",
    "\n",
    "from sklearn.naive_bayes import MultinomialNB\n",
    "\n",
    "classifier = MultinomialNB()\n",
    "targets = treinamento['a/na'].values\n",
    "classifier.fit(counts, targets)\n",
    "\n",
    "\n",
    "example_counts = count_vectorizer.transform(teste[\"letra\"])\n",
    "predictions = classifier.predict(example_counts)\n",
    "predictions \n",
    "manxdig=pd.crosstab(predictions,teste['a/na'],margins=True,rownames=['Digital'] , colnames=['Manual'], normalize=True)*100\n",
    "print('\\033[1m'+'  Classificação Manual X Digital')\n",
    "manxdig\n",
    "\n",
    "\n",
    "\n",
    "\n"
   ]
  },
  {
   "cell_type": "code",
   "execution_count": 8,
   "metadata": {},
   "outputs": [
    {
     "data": {
      "text/plain": [
       "69.491525423728802"
      ]
     },
     "execution_count": 8,
     "metadata": {},
     "output_type": "execute_result"
    }
   ],
   "source": [
    "porcacerto = manxdig.a.a+manxdig.na.na\n",
    "\n",
    "porcacerto"
   ]
  },
  {
   "cell_type": "markdown",
   "metadata": {},
   "source": [
    "#  n-gram"
   ]
  },
  {
   "cell_type": "markdown",
   "metadata": {},
   "source": [
    "<h4> Positividade</h4>"
   ]
  },
  {
   "cell_type": "code",
   "execution_count": 9,
   "metadata": {},
   "outputs": [
    {
     "name": "stdout",
     "output_type": "stream",
     "text": [
      "\u001b[1m  Classificação Manual X Digital\n"
     ]
    },
    {
     "data": {
      "text/html": [
       "<div>\n",
       "<style>\n",
       "    .dataframe thead tr:only-child th {\n",
       "        text-align: right;\n",
       "    }\n",
       "\n",
       "    .dataframe thead th {\n",
       "        text-align: left;\n",
       "    }\n",
       "\n",
       "    .dataframe tbody tr th {\n",
       "        vertical-align: top;\n",
       "    }\n",
       "</style>\n",
       "<table border=\"1\" class=\"dataframe\">\n",
       "  <thead>\n",
       "    <tr style=\"text-align: right;\">\n",
       "      <th>Manual</th>\n",
       "      <th>rb</th>\n",
       "      <th>rg</th>\n",
       "      <th>All</th>\n",
       "    </tr>\n",
       "    <tr>\n",
       "      <th>Digital</th>\n",
       "      <th></th>\n",
       "      <th></th>\n",
       "      <th></th>\n",
       "    </tr>\n",
       "  </thead>\n",
       "  <tbody>\n",
       "    <tr>\n",
       "      <th>rb</th>\n",
       "      <td>33.898305</td>\n",
       "      <td>16.949153</td>\n",
       "      <td>50.847458</td>\n",
       "    </tr>\n",
       "    <tr>\n",
       "      <th>rg</th>\n",
       "      <td>25.423729</td>\n",
       "      <td>23.728814</td>\n",
       "      <td>49.152542</td>\n",
       "    </tr>\n",
       "    <tr>\n",
       "      <th>All</th>\n",
       "      <td>59.322034</td>\n",
       "      <td>40.677966</td>\n",
       "      <td>100.000000</td>\n",
       "    </tr>\n",
       "  </tbody>\n",
       "</table>\n",
       "</div>"
      ],
      "text/plain": [
       "Manual          rb         rg         All\n",
       "Digital                                  \n",
       "rb       33.898305  16.949153   50.847458\n",
       "rg       25.423729  23.728814   49.152542\n",
       "All      59.322034  40.677966  100.000000"
      ]
     },
     "execution_count": 9,
     "metadata": {},
     "output_type": "execute_result"
    }
   ],
   "source": [
    "import numpy\n",
    "from sklearn.feature_extraction.text import CountVectorizer\n",
    "\n",
    "count_vectorizer = CountVectorizer(ngram_range=(1, 2))\n",
    "counts = count_vectorizer.fit_transform(treinamento['letra'].values)\n",
    "\n",
    "\n",
    "\n",
    "from sklearn.naive_bayes import MultinomialNB\n",
    "\n",
    "classifier = MultinomialNB()\n",
    "targets = treinamento[f].values\n",
    "classifier.fit(counts, targets)\n",
    "\n",
    "\n",
    "example_counts = count_vectorizer.transform(teste[\"letra\"])\n",
    "predictions = classifier.predict(example_counts)\n",
    "predictions \n",
    "manxdig=pd.crosstab(predictions,teste[f],margins=True,rownames=['Digital'] , colnames=['Manual'], normalize=True)*100\n",
    "print('\\033[1m'+'  Classificação Manual X Digital')\n",
    "manxdig\n",
    "\n"
   ]
  },
  {
   "cell_type": "code",
   "execution_count": 10,
   "metadata": {},
   "outputs": [
    {
     "data": {
      "text/plain": [
       "57.627118644067792"
      ]
     },
     "execution_count": 10,
     "metadata": {},
     "output_type": "execute_result"
    }
   ],
   "source": [
    "porcacerto = manxdig.rb.rb+manxdig.rg.rg\n",
    "\n",
    "porcacerto"
   ]
  },
  {
   "cell_type": "markdown",
   "metadata": {},
   "source": [
    "<h4> Amor ou não amor</h4>"
   ]
  },
  {
   "cell_type": "code",
   "execution_count": 11,
   "metadata": {},
   "outputs": [
    {
     "name": "stdout",
     "output_type": "stream",
     "text": [
      "\u001b[1m  Classificação Manual X Digital\n"
     ]
    },
    {
     "data": {
      "text/html": [
       "<div>\n",
       "<style>\n",
       "    .dataframe thead tr:only-child th {\n",
       "        text-align: right;\n",
       "    }\n",
       "\n",
       "    .dataframe thead th {\n",
       "        text-align: left;\n",
       "    }\n",
       "\n",
       "    .dataframe tbody tr th {\n",
       "        vertical-align: top;\n",
       "    }\n",
       "</style>\n",
       "<table border=\"1\" class=\"dataframe\">\n",
       "  <thead>\n",
       "    <tr style=\"text-align: right;\">\n",
       "      <th>Manual</th>\n",
       "      <th>a</th>\n",
       "      <th>na</th>\n",
       "      <th>All</th>\n",
       "    </tr>\n",
       "    <tr>\n",
       "      <th>Digital</th>\n",
       "      <th></th>\n",
       "      <th></th>\n",
       "      <th></th>\n",
       "    </tr>\n",
       "  </thead>\n",
       "  <tbody>\n",
       "    <tr>\n",
       "      <th>a</th>\n",
       "      <td>27.118644</td>\n",
       "      <td>35.59322</td>\n",
       "      <td>62.711864</td>\n",
       "    </tr>\n",
       "    <tr>\n",
       "      <th>na</th>\n",
       "      <td>5.084746</td>\n",
       "      <td>32.20339</td>\n",
       "      <td>37.288136</td>\n",
       "    </tr>\n",
       "    <tr>\n",
       "      <th>All</th>\n",
       "      <td>32.203390</td>\n",
       "      <td>67.79661</td>\n",
       "      <td>100.000000</td>\n",
       "    </tr>\n",
       "  </tbody>\n",
       "</table>\n",
       "</div>"
      ],
      "text/plain": [
       "Manual           a        na         All\n",
       "Digital                                 \n",
       "a        27.118644  35.59322   62.711864\n",
       "na        5.084746  32.20339   37.288136\n",
       "All      32.203390  67.79661  100.000000"
      ]
     },
     "execution_count": 11,
     "metadata": {},
     "output_type": "execute_result"
    }
   ],
   "source": [
    "count_vectorizer = CountVectorizer(ngram_range=(1, 2))\n",
    "counts = count_vectorizer.fit_transform(treinamento['letra'].values)\n",
    "\n",
    "\n",
    "\n",
    "\n",
    "classifier = MultinomialNB()\n",
    "targets = treinamento['a/na'].values\n",
    "classifier.fit(counts, targets)\n",
    "\n",
    "\n",
    "example_counts = count_vectorizer.transform(teste[\"letra\"])\n",
    "predictions = classifier.predict(example_counts)\n",
    "predictions \n",
    "manxdig=pd.crosstab(predictions,teste['a/na'],margins=True,rownames=['Digital'] , colnames=['Manual'], normalize=True)*100\n",
    "print('\\033[1m'+'  Classificação Manual X Digital')\n",
    "manxdig\n",
    "\n"
   ]
  },
  {
   "cell_type": "code",
   "execution_count": 12,
   "metadata": {},
   "outputs": [
    {
     "data": {
      "text/plain": [
       "59.322033898305079"
      ]
     },
     "execution_count": 12,
     "metadata": {},
     "output_type": "execute_result"
    }
   ],
   "source": [
    "porcacerto = manxdig.a.a+manxdig.na.na\n",
    "\n",
    "porcacerto"
   ]
  },
  {
   "cell_type": "markdown",
   "metadata": {},
   "source": [
    "# Tf-id"
   ]
  },
  {
   "cell_type": "markdown",
   "metadata": {},
   "source": [
    "<h4>Positividade</h4>"
   ]
  },
  {
   "cell_type": "code",
   "execution_count": 13,
   "metadata": {},
   "outputs": [
    {
     "name": "stdout",
     "output_type": "stream",
     "text": [
      "\u001b[1m  Classificação Manual X Digital\n"
     ]
    },
    {
     "data": {
      "text/html": [
       "<div>\n",
       "<style>\n",
       "    .dataframe thead tr:only-child th {\n",
       "        text-align: right;\n",
       "    }\n",
       "\n",
       "    .dataframe thead th {\n",
       "        text-align: left;\n",
       "    }\n",
       "\n",
       "    .dataframe tbody tr th {\n",
       "        vertical-align: top;\n",
       "    }\n",
       "</style>\n",
       "<table border=\"1\" class=\"dataframe\">\n",
       "  <thead>\n",
       "    <tr style=\"text-align: right;\">\n",
       "      <th>Manual</th>\n",
       "      <th>rb</th>\n",
       "      <th>rg</th>\n",
       "      <th>All</th>\n",
       "    </tr>\n",
       "    <tr>\n",
       "      <th>Digital</th>\n",
       "      <th></th>\n",
       "      <th></th>\n",
       "      <th></th>\n",
       "    </tr>\n",
       "  </thead>\n",
       "  <tbody>\n",
       "    <tr>\n",
       "      <th>rb</th>\n",
       "      <td>49.152542</td>\n",
       "      <td>27.118644</td>\n",
       "      <td>76.271186</td>\n",
       "    </tr>\n",
       "    <tr>\n",
       "      <th>rg</th>\n",
       "      <td>10.169492</td>\n",
       "      <td>13.559322</td>\n",
       "      <td>23.728814</td>\n",
       "    </tr>\n",
       "    <tr>\n",
       "      <th>All</th>\n",
       "      <td>59.322034</td>\n",
       "      <td>40.677966</td>\n",
       "      <td>100.000000</td>\n",
       "    </tr>\n",
       "  </tbody>\n",
       "</table>\n",
       "</div>"
      ],
      "text/plain": [
       "Manual          rb         rg         All\n",
       "Digital                                  \n",
       "rb       49.152542  27.118644   76.271186\n",
       "rg       10.169492  13.559322   23.728814\n",
       "All      59.322034  40.677966  100.000000"
      ]
     },
     "execution_count": 13,
     "metadata": {},
     "output_type": "execute_result"
    }
   ],
   "source": [
    "from sklearn.pipeline import Pipeline\n",
    "from sklearn.feature_extraction.text  import  TfidfVectorizer \n",
    "from  sklearn.feature_extraction.text  import  TfidfTransformer \n",
    "\n",
    "p= Pipeline([\n",
    "    ('count_vectorizer',   CountVectorizer()),\n",
    "    ('tfidf_transformer',  TfidfTransformer()),\n",
    "    ('classifier',  MultinomialNB()) ])\n",
    "\n",
    "l=p.fit(treinamento['letra'], treinamento[f] )\n",
    "\n",
    "\n",
    "predictions = l.predict(teste['letra'])\n",
    "predictions # [1, 0]\n",
    "manxdig=pd.crosstab(predictions,teste[f],margins=True,rownames=['Digital'] , colnames=['Manual'], normalize=True)*100\n",
    "print('\\033[1m'+'  Classificação Manual X Digital')\n",
    "manxdig\n"
   ]
  },
  {
   "cell_type": "code",
   "execution_count": 14,
   "metadata": {},
   "outputs": [
    {
     "data": {
      "text/plain": [
       "62.711864406779661"
      ]
     },
     "execution_count": 14,
     "metadata": {},
     "output_type": "execute_result"
    }
   ],
   "source": [
    "porcacerto = manxdig.rb.rb+manxdig.rg.rg\n",
    "\n",
    "porcacerto"
   ]
  },
  {
   "cell_type": "markdown",
   "metadata": {},
   "source": [
    "<h4>Amor e não amorr</h4>"
   ]
  },
  {
   "cell_type": "code",
   "execution_count": 15,
   "metadata": {},
   "outputs": [
    {
     "name": "stdout",
     "output_type": "stream",
     "text": [
      "\u001b[1m  Classificação Manual X Digital\n"
     ]
    },
    {
     "data": {
      "text/html": [
       "<div>\n",
       "<style>\n",
       "    .dataframe thead tr:only-child th {\n",
       "        text-align: right;\n",
       "    }\n",
       "\n",
       "    .dataframe thead th {\n",
       "        text-align: left;\n",
       "    }\n",
       "\n",
       "    .dataframe tbody tr th {\n",
       "        vertical-align: top;\n",
       "    }\n",
       "</style>\n",
       "<table border=\"1\" class=\"dataframe\">\n",
       "  <thead>\n",
       "    <tr style=\"text-align: right;\">\n",
       "      <th>Manual</th>\n",
       "      <th>a</th>\n",
       "      <th>na</th>\n",
       "      <th>All</th>\n",
       "    </tr>\n",
       "    <tr>\n",
       "      <th>Digital</th>\n",
       "      <th></th>\n",
       "      <th></th>\n",
       "      <th></th>\n",
       "    </tr>\n",
       "  </thead>\n",
       "  <tbody>\n",
       "    <tr>\n",
       "      <th>a</th>\n",
       "      <td>28.813559</td>\n",
       "      <td>30.508475</td>\n",
       "      <td>59.322034</td>\n",
       "    </tr>\n",
       "    <tr>\n",
       "      <th>na</th>\n",
       "      <td>3.389831</td>\n",
       "      <td>37.288136</td>\n",
       "      <td>40.677966</td>\n",
       "    </tr>\n",
       "    <tr>\n",
       "      <th>All</th>\n",
       "      <td>32.203390</td>\n",
       "      <td>67.796610</td>\n",
       "      <td>100.000000</td>\n",
       "    </tr>\n",
       "  </tbody>\n",
       "</table>\n",
       "</div>"
      ],
      "text/plain": [
       "Manual           a         na         All\n",
       "Digital                                  \n",
       "a        28.813559  30.508475   59.322034\n",
       "na        3.389831  37.288136   40.677966\n",
       "All      32.203390  67.796610  100.000000"
      ]
     },
     "execution_count": 15,
     "metadata": {},
     "output_type": "execute_result"
    }
   ],
   "source": [
    "\n",
    "p= Pipeline([\n",
    "    ('count_vectorizer',   CountVectorizer()),\n",
    "    ('tfidf_transformer',  TfidfTransformer()),\n",
    "    ('classifier',  MultinomialNB()) ])\n",
    "\n",
    "l=p.fit(treinamento['letra'], treinamento['a/na'] )\n",
    "\n",
    "\n",
    "predictions = l.predict(teste['letra'])\n",
    "predictions # [1, 0]\n",
    "manxdig=pd.crosstab(predictions,teste['a/na'],margins=True,rownames=['Digital'] , colnames=['Manual'], normalize=True)*100\n",
    "print('\\033[1m'+'  Classificação Manual X Digital')\n",
    "manxdig"
   ]
  },
  {
   "cell_type": "code",
   "execution_count": 16,
   "metadata": {},
   "outputs": [
    {
     "data": {
      "text/plain": [
       "66.101694915254242"
      ]
     },
     "execution_count": 16,
     "metadata": {},
     "output_type": "execute_result"
    }
   ],
   "source": [
    "porcacerto = manxdig.a.a+manxdig.na.na\n",
    "\n",
    "porcacerto"
   ]
  },
  {
   "cell_type": "markdown",
   "metadata": {},
   "source": [
    "# Tfi-id + n-grams"
   ]
  },
  {
   "cell_type": "markdown",
   "metadata": {},
   "source": [
    "<h4>Positividade</h4>"
   ]
  },
  {
   "cell_type": "code",
   "execution_count": 17,
   "metadata": {},
   "outputs": [
    {
     "name": "stdout",
     "output_type": "stream",
     "text": [
      "\u001b[1m  Classificação Manual X Digital\n"
     ]
    },
    {
     "data": {
      "text/html": [
       "<div>\n",
       "<style>\n",
       "    .dataframe thead tr:only-child th {\n",
       "        text-align: right;\n",
       "    }\n",
       "\n",
       "    .dataframe thead th {\n",
       "        text-align: left;\n",
       "    }\n",
       "\n",
       "    .dataframe tbody tr th {\n",
       "        vertical-align: top;\n",
       "    }\n",
       "</style>\n",
       "<table border=\"1\" class=\"dataframe\">\n",
       "  <thead>\n",
       "    <tr style=\"text-align: right;\">\n",
       "      <th>Manual</th>\n",
       "      <th>rb</th>\n",
       "      <th>rg</th>\n",
       "      <th>All</th>\n",
       "    </tr>\n",
       "    <tr>\n",
       "      <th>Digital</th>\n",
       "      <th></th>\n",
       "      <th></th>\n",
       "      <th></th>\n",
       "    </tr>\n",
       "  </thead>\n",
       "  <tbody>\n",
       "    <tr>\n",
       "      <th>rb</th>\n",
       "      <td>45.762712</td>\n",
       "      <td>20.338983</td>\n",
       "      <td>66.101695</td>\n",
       "    </tr>\n",
       "    <tr>\n",
       "      <th>rg</th>\n",
       "      <td>13.559322</td>\n",
       "      <td>20.338983</td>\n",
       "      <td>33.898305</td>\n",
       "    </tr>\n",
       "    <tr>\n",
       "      <th>All</th>\n",
       "      <td>59.322034</td>\n",
       "      <td>40.677966</td>\n",
       "      <td>100.000000</td>\n",
       "    </tr>\n",
       "  </tbody>\n",
       "</table>\n",
       "</div>"
      ],
      "text/plain": [
       "Manual          rb         rg         All\n",
       "Digital                                  \n",
       "rb       45.762712  20.338983   66.101695\n",
       "rg       13.559322  20.338983   33.898305\n",
       "All      59.322034  40.677966  100.000000"
      ]
     },
     "execution_count": 17,
     "metadata": {},
     "output_type": "execute_result"
    }
   ],
   "source": [
    "from sklearn.pipeline import Pipeline\n",
    "from sklearn.feature_extraction.text  import  TfidfVectorizer \n",
    "from  sklearn.feature_extraction.text  import  TfidfTransformer \n",
    "\n",
    "p= Pipeline([\n",
    "    ('count_vectorizer',   CountVectorizer(ngram_range=(1, 2))),\n",
    "    ('tfidf_transformer',  TfidfTransformer()),\n",
    "    ('classifier',  MultinomialNB()) ])\n",
    "\n",
    "l=p.fit(treinamento['letra'], treinamento[f] )\n",
    "\n",
    "\n",
    "predictions = l.predict(teste['letra'])\n",
    "predictions # [1, 0]\n",
    "manxdig=pd.crosstab(predictions,teste[f],margins=True,rownames=['Digital'] , colnames=['Manual'], normalize=True)*100\n",
    "print('\\033[1m'+'  Classificação Manual X Digital')\n",
    "manxdig"
   ]
  },
  {
   "cell_type": "code",
   "execution_count": 18,
   "metadata": {},
   "outputs": [
    {
     "data": {
      "text/plain": [
       "66.101694915254242"
      ]
     },
     "execution_count": 18,
     "metadata": {},
     "output_type": "execute_result"
    }
   ],
   "source": [
    "porcacerto = manxdig.rb.rb+manxdig.rg.rg\n",
    "\n",
    "porcacerto"
   ]
  },
  {
   "cell_type": "code",
   "execution_count": 19,
   "metadata": {},
   "outputs": [
    {
     "ename": "SyntaxError",
     "evalue": "invalid syntax (<ipython-input-19-9b84536cc89c>, line 1)",
     "output_type": "error",
     "traceback": [
      "\u001b[1;36m  File \u001b[1;32m\"<ipython-input-19-9b84536cc89c>\"\u001b[1;36m, line \u001b[1;32m1\u001b[0m\n\u001b[1;33m    <h4>Amor ou não amor</h4>\u001b[0m\n\u001b[1;37m    ^\u001b[0m\n\u001b[1;31mSyntaxError\u001b[0m\u001b[1;31m:\u001b[0m invalid syntax\n"
     ]
    }
   ],
   "source": [
    "<h4>Amor ou não amor</h4>"
   ]
  },
  {
   "cell_type": "code",
   "execution_count": null,
   "metadata": {},
   "outputs": [],
   "source": [
    "from sklearn.pipeline import Pipeline\n",
    "from sklearn.feature_extraction.text  import  TfidfVectorizer \n",
    "from  sklearn.feature_extraction.text  import  TfidfTransformer \n",
    "\n",
    "p= Pipeline([\n",
    "    ('count_vectorizer',   CountVectorizer(ngram_range=(1, 2))),\n",
    "    ('tfidf_transformer',  TfidfTransformer()),\n",
    "    ('classifier',  MultinomialNB()) ])\n",
    "\n",
    "l=p.fit(treinamento['letra'], treinamento['a/na'] )\n",
    "\n",
    "\n",
    "predictions = l.predict(teste['letra'])\n",
    "predictions # [1, 0]\n",
    "manxdig=pd.crosstab(predictions,teste['a/na'],margins=True,rownames=['Digital'] , colnames=['Manual'], normalize=True)*100\n",
    "print('\\033[1m'+'  Classificação Manual X Digital')\n",
    "manxdig"
   ]
  },
  {
   "cell_type": "code",
   "execution_count": null,
   "metadata": {},
   "outputs": [],
   "source": [
    "porcacerto = manxdig.a.a+manxdig.na.na\n",
    "\n",
    "porcacerto"
   ]
  },
  {
   "cell_type": "markdown",
   "metadata": {},
   "source": [
    "# Steam"
   ]
  },
  {
   "cell_type": "code",
   "execution_count": null,
   "metadata": {},
   "outputs": [],
   "source": [
    "for i in range(len(teste)):    \n",
    "    palavras = teste.letra[i].split()                # criando lista de listas de palavras em cada mensagem\n",
    "    letras=[]                                              #lista de lista de letras das palvras\n",
    "    final=[]                                                #lista de mensagens no final do processo\n",
    "    for x in palavras:#passando palavra por palavra\n",
    "        y=snowball_stemmer.stem(x)\n",
    "        final.append(y)                 #adiciona na lista final\n",
    "      \n",
    "    teste.loc[i,('letra')] = ' '.join(final) #junta as palavras das mensagens e substitui as mensagens de dados.Treinamento\n",
    "for i in range(len(treinamento)):   \n",
    "    palavras = treinamento.letra[i].split()                # criando lista de listas de palavras em cada mensagem\n",
    "    letras=[]                                              #lista de lista de letras das palvras\n",
    "    final=[]                                                #lista de mensagens no final do processo\n",
    "    for x in palavras:#passando palavra por palavra\n",
    "        y=snowball_stemmer.stem(x)\n",
    "        final.append(y) \n",
    "    treinamento.loc[i,('letra')]= ' '.join(final)#adiciona na lista final\n",
    "  \n"
   ]
  },
  {
   "cell_type": "markdown",
   "metadata": {},
   "source": [
    "# Naive bayes + Steam"
   ]
  },
  {
   "cell_type": "markdown",
   "metadata": {},
   "source": [
    "<h4> Positividade </h4>"
   ]
  },
  {
   "cell_type": "code",
   "execution_count": null,
   "metadata": {},
   "outputs": [],
   "source": [
    "import numpy\n",
    "from sklearn.feature_extraction.text import CountVectorizer\n",
    "\n",
    "count_vectorizer = CountVectorizer(analyzer='word')\n",
    "counts = count_vectorizer.fit_transform(treinamento['letra'].values)\n",
    "\n",
    "\n",
    "\n",
    "from sklearn.naive_bayes import MultinomialNB\n",
    "\n",
    "classifier = MultinomialNB()\n",
    "targets = treinamento[f].values\n",
    "classifier.fit(counts, targets)\n",
    "\n",
    "\n",
    "example_counts = count_vectorizer.transform(teste[\"letra\"])\n",
    "predictions = classifier.predict(example_counts)\n",
    "predictions \n",
    "\n",
    "manxdig=pd.crosstab(predictions,teste[f],margins=True,rownames=['Digital'] , colnames=['Manual'], normalize=True)*100\n",
    "print('\\033[1m'+'  Classificação Manual X Digital')\n",
    "manxdig\n",
    "\n",
    "\n"
   ]
  },
  {
   "cell_type": "code",
   "execution_count": null,
   "metadata": {},
   "outputs": [],
   "source": [
    "porcacerto = manxdig.rb.rb+manxdig.rg.rg\n",
    "\n",
    "porcacerto"
   ]
  },
  {
   "cell_type": "markdown",
   "metadata": {},
   "source": [
    "<h4> Amor ou não amor</h4>"
   ]
  },
  {
   "cell_type": "code",
   "execution_count": null,
   "metadata": {},
   "outputs": [],
   "source": [
    "\n",
    "classifier = MultinomialNB()\n",
    "targets = treinamento['a/na'].values\n",
    "classifier.fit(counts, targets)\n",
    "\n",
    "\n",
    "example_counts = count_vectorizer.transform(teste[\"letra\"])\n",
    "predictions = classifier.predict(example_counts)\n",
    "predictions \n",
    "\n",
    "manxdig=pd.crosstab(predictions,teste['a/na'],margins=True,rownames=['Digital'] , colnames=['Manual'], normalize=True)*100\n",
    "print('\\033[1m'+'  Classificação Manual X Digital')\n",
    "manxdig"
   ]
  },
  {
   "cell_type": "code",
   "execution_count": null,
   "metadata": {},
   "outputs": [],
   "source": [
    "porcacerto = manxdig.a.a+manxdig.na.na\n",
    "\n",
    "porcacerto"
   ]
  },
  {
   "cell_type": "markdown",
   "metadata": {},
   "source": [
    "# N-gram  + Steam"
   ]
  },
  {
   "cell_type": "markdown",
   "metadata": {},
   "source": [
    "<h4> Positividade </h4>"
   ]
  },
  {
   "cell_type": "code",
   "execution_count": null,
   "metadata": {},
   "outputs": [],
   "source": [
    "from sklearn.pipeline import Pipeline\n",
    "from sklearn.feature_extraction.text  import  TfidfVectorizer \n",
    "from  sklearn.feature_extraction.text  import  TfidfTransformer \n",
    "\n",
    "p= Pipeline([\n",
    "    ('count_vectorizer',   CountVectorizer(ngram_range=(1, 3))),\n",
    "    ('tfidf_transformer',  TfidfTransformer()),\n",
    "    ('classifier',  MultinomialNB()) ])\n",
    "\n",
    "l=p.fit(treinamento['letra'], treinamento[f] )\n",
    "\n",
    "\n",
    "predictions = l.predict(teste['letra'])\n",
    "predictions # [1, 0]\n",
    "manxdig=pd.crosstab(predictions,teste[f],margins=True,rownames=['Digital'] , colnames=['Manual'], normalize=True)*100\n",
    "print('\\033[1m'+'  Classificação Manual X Digital')\n",
    "manxdig\n",
    "\n"
   ]
  },
  {
   "cell_type": "code",
   "execution_count": null,
   "metadata": {},
   "outputs": [],
   "source": [
    "porcacerto = manxdig.rb.rb+manxdig.rg.rg\n",
    "\n",
    "porcacerto"
   ]
  },
  {
   "cell_type": "markdown",
   "metadata": {},
   "source": [
    "<h4>Amor ou não amor</h4>"
   ]
  },
  {
   "cell_type": "code",
   "execution_count": null,
   "metadata": {},
   "outputs": [],
   "source": [
    "from sklearn.pipeline import Pipeline\n",
    "from sklearn.feature_extraction.text  import  TfidfVectorizer \n",
    "from  sklearn.feature_extraction.text  import  TfidfTransformer \n",
    "\n",
    "p= Pipeline([\n",
    "    ('count_vectorizer',   CountVectorizer(ngram_range=(1, 3))),\n",
    "    ('tfidf_transformer',  TfidfTransformer()),\n",
    "    ('classifier',  MultinomialNB()) ])\n",
    "\n",
    "l=p.fit(treinamento['letra'], treinamento['a/na'] )\n",
    "\n",
    "\n",
    "predictions = l.predict(teste['letra'])\n",
    "predictions # [1, 0]\n",
    "manxdig=pd.crosstab(predictions,teste['a/na'],margins=True,rownames=['Digital'] , colnames=['Manual'], normalize=True)*100\n",
    "print('\\033[1m'+'  Classificação Manual X Digital')\n",
    "manxdig\n"
   ]
  },
  {
   "cell_type": "code",
   "execution_count": null,
   "metadata": {},
   "outputs": [],
   "source": [
    "porcacerto = manxdig.na.na+manxdig.a.a\n",
    "\n",
    "porcacerto"
   ]
  },
  {
   "cell_type": "markdown",
   "metadata": {
    "collapsed": true
   },
   "source": [
    "# Steam + Df-if "
   ]
  },
  {
   "cell_type": "code",
   "execution_count": null,
   "metadata": {},
   "outputs": [],
   "source": [
    "from sklearn.pipeline import Pipeline\n",
    "from sklearn.feature_extraction.text  import  TfidfVectorizer \n",
    "from  sklearn.feature_extraction.text  import  TfidfTransformer \n",
    "\n",
    "p= Pipeline([\n",
    "    ('count_vectorizer',   CountVectorizer()),\n",
    "    ('tfidf_transformer',  TfidfTransformer()),\n",
    "    ('classifier',  MultinomialNB()) ])\n",
    "\n",
    "l=p.fit(treinamento['letra'], treinamento[f] )\n",
    "\n",
    "\n",
    "predictions = l.predict(teste['letra'])\n",
    "predictions # [1, 0]\n",
    "manxdig=pd.crosstab(predictions,teste[f],margins=True,rownames=['Digital'] , colnames=['Manual'], normalize=True)*100\n",
    "print('\\033[1m'+'  Classificação Manual X Digital')\n",
    "manxdig\n"
   ]
  },
  {
   "cell_type": "code",
   "execution_count": null,
   "metadata": {},
   "outputs": [],
   "source": [
    "porcacerto = manxdig.rb.rb+manxdig.rg.rg\n",
    "\n",
    "porcacerto"
   ]
  },
  {
   "cell_type": "code",
   "execution_count": null,
   "metadata": {},
   "outputs": [],
   "source": [
    "from sklearn.pipeline import Pipeline\n",
    "from sklearn.feature_extraction.text  import  TfidfVectorizer \n",
    "from  sklearn.feature_extraction.text  import  TfidfTransformer \n",
    "\n",
    "p= Pipeline([\n",
    "    ('count_vectorizer',   CountVectorizer()),\n",
    "    ('tfidf_transformer',  TfidfTransformer()),\n",
    "    ('classifier',  MultinomialNB()) ])\n",
    "\n",
    "l=p.fit(treinamento['letra'], treinamento['a/na'] )\n",
    "\n",
    "\n",
    "predictions = l.predict(teste['letra'])\n",
    "predictions # [1, 0]\n",
    "manxdig=pd.crosstab(predictions,teste['a/na'],margins=True,rownames=['Digital'] , colnames=['Manual'], normalize=True)*100\n",
    "print('\\033[1m'+'  Classificação Manual X Digital')\n",
    "manxdig"
   ]
  },
  {
   "cell_type": "code",
   "execution_count": null,
   "metadata": {},
   "outputs": [],
   "source": [
    "porcacerto = manxdig.na.na+manxdig.a.a\n",
    "\n",
    "porcacerto"
   ]
  },
  {
   "cell_type": "markdown",
   "metadata": {},
   "source": [
    "# Steam + Tfi-id + n-grams"
   ]
  },
  {
   "cell_type": "markdown",
   "metadata": {},
   "source": [
    "<h4>Positividade<h4>"
   ]
  },
  {
   "cell_type": "code",
   "execution_count": null,
   "metadata": {},
   "outputs": [],
   "source": [
    "from sklearn.pipeline import Pipeline\n",
    "from sklearn.feature_extraction.text  import  TfidfVectorizer \n",
    "from  sklearn.feature_extraction.text  import  TfidfTransformer \n",
    "\n",
    "p= Pipeline([\n",
    "    ('count_vectorizer',   CountVectorizer(ngram_range=(1, 2))),\n",
    "    ('tfidf_transformer',  TfidfTransformer()),\n",
    "    ('classifier',  MultinomialNB()) ])\n",
    "\n",
    "l=p.fit(treinamento['letra'], treinamento[f] )\n",
    "\n",
    "\n",
    "predictions = l.predict(teste['letra'])\n",
    "predictions # [1, 0]\n",
    "manxdig=pd.crosstab(predictions,teste[f],margins=True,rownames=['Digital'] , colnames=['Manual'], normalize=True)*100\n",
    "print('\\033[1m'+'  Classificação Manual X Digital')\n",
    "manxdig"
   ]
  },
  {
   "cell_type": "code",
   "execution_count": null,
   "metadata": {},
   "outputs": [],
   "source": [
    "porcacerto = manxdig.rb.rb+manxdig.rg.rg\n",
    "\n",
    "porcacerto\n"
   ]
  },
  {
   "cell_type": "markdown",
   "metadata": {
    "collapsed": true
   },
   "source": [
    "<h4>Amor ou não amor</h4>"
   ]
  },
  {
   "cell_type": "code",
   "execution_count": null,
   "metadata": {},
   "outputs": [],
   "source": [
    "from sklearn.pipeline import Pipeline\n",
    "from sklearn.feature_extraction.text  import  TfidfVectorizer \n",
    "from  sklearn.feature_extraction.text  import  TfidfTransformer \n",
    "\n",
    "p= Pipeline([\n",
    "    ('count_vectorizer',   CountVectorizer(ngram_range=(1, 2))),\n",
    "    ('tfidf_transformer',  TfidfTransformer()),\n",
    "    ('classifier',  MultinomialNB()) ])\n",
    "\n",
    "l=p.fit(treinamento['letra'], treinamento['a/na'] )\n",
    "\n",
    "\n",
    "predictions = l.predict(teste['letra'])\n",
    "predictions # [1, 0]\n",
    "manxdig=pd.crosstab(predictions,teste['a/na'],margins=True,rownames=['Digital'] , colnames=['Manual'], normalize=True)*100\n",
    "print('\\033[1m'+'  Classificação Manual X Digital')\n",
    "manxdig"
   ]
  },
  {
   "cell_type": "code",
   "execution_count": null,
   "metadata": {},
   "outputs": [],
   "source": [
    "porcacerto = manxdig.a.a+manxdig.na.na\n",
    "\n",
    "porcacerto"
   ]
  },
  {
   "cell_type": "code",
   "execution_count": null,
   "metadata": {
    "collapsed": true
   },
   "outputs": [],
   "source": []
  }
 ],
 "metadata": {
  "kernelspec": {
   "display_name": "Python 3",
   "language": "python",
   "name": "python3"
  },
  "language_info": {
   "codemirror_mode": {
    "name": "ipython",
    "version": 3
   },
   "file_extension": ".py",
   "mimetype": "text/x-python",
   "name": "python",
   "nbconvert_exporter": "python",
   "pygments_lexer": "ipython3",
   "version": "3.6.1"
  }
 },
 "nbformat": 4,
 "nbformat_minor": 2
}
