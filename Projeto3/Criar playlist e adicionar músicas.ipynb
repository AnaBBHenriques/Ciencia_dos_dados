{
 "cells": [
  {
   "cell_type": "code",
   "execution_count": 6,
   "metadata": {},
   "outputs": [],
   "source": [
    "# shows a user's playlists (need to be authenticated via oauth)\n",
    "\n",
    "from __future__ import print_function\n",
    "import os\n",
    "from spotipy import oauth2\n",
    "import spotipy\n",
    "\n",
    "\n",
    "def prompt_for_user_token(username, scope=None, client_id = None,\n",
    "        client_secret = None, redirect_uri = None, cache_path = None):\n",
    "    ''' prompts the user to login if necessary and returns\n",
    "        the user token suitable for use with the spotipy.Spotify \n",
    "        constructor\n",
    "        Parameters:\n",
    "         - username - the Spotify username\n",
    "         - scope - the desired scope of the request\n",
    "         - client_id - the client id of your app\n",
    "         - client_secret - the client secret of your app\n",
    "         - redirect_uri - the redirect URI of your app\n",
    "         - cache_path - path to location to save tokens\n",
    "    '''\n",
    "\n",
    "    if not client_id:\n",
    "        client_id = os.getenv('SPOTIPY_CLIENT_ID')\n",
    "\n",
    "    if not client_secret:\n",
    "        client_secret = os.getenv('SPOTIPY_CLIENT_SECRET')\n",
    "\n",
    "    if not redirect_uri:\n",
    "        redirect_uri = os.getenv('SPOTIPY_REDIRECT_URI')\n",
    "\n",
    "    if not client_id:\n",
    "        print('''\n",
    "            You need to set your Spotify API credentials. You can do this by\n",
    "            setting environment variables like so:\n",
    "            export SPOTIPY_CLIENT_ID='your-spotify-client-id'\n",
    "            export SPOTIPY_CLIENT_SECRET='your-spotify-client-secret'\n",
    "            export SPOTIPY_REDIRECT_URI='your-app-redirect-url'\n",
    "            Get your credentials at     \n",
    "                https://developer.spotify.com/my-applications\n",
    "        ''')\n",
    "        raise spotipy.SpotifyException(550, -1, 'no credentials set')\n",
    "\n",
    "    cache_path = cache_path or \".cache-\" + username\n",
    "    sp_oauth = oauth2.SpotifyOAuth(client_id, client_secret, redirect_uri, \n",
    "        scope=scope, cache_path=cache_path)\n",
    "\n",
    "    # try to get a valid token for this user, from the cache,\n",
    "    # if not in the cache, the create a new (this will send\n",
    "    # the user to a web page where they can authorize this app)\n",
    "\n",
    "    token_info = sp_oauth.get_cached_token()\n",
    "\n",
    "    if not token_info:\n",
    "        print('''\n",
    "            User authentication requires interaction with your\n",
    "            web browser. Once you enter your credentials and\n",
    "            give authorization, you will be redirected to\n",
    "            a url.  Paste that url you were directed to to\n",
    "            complete the authorization.\n",
    "        ''')\n",
    "        auth_url = sp_oauth.get_authorize_url()\n",
    "        try:\n",
    "            import webbrowser\n",
    "            webbrowser.open(auth_url)\n",
    "            print(\"Opened %s in your browser\" % auth_url)\n",
    "        except:\n",
    "            print(\"Please navigate here: %s\" % auth_url)\n",
    "\n",
    "        print()\n",
    "        print()\n",
    "        try:\n",
    "            response = raw_input(\"Enter the URL you were redirected to oi: \") #aqui que ele faz o input pra pedir o link que ele abre\n",
    "        except NameError:\n",
    "            response = Entryinput(\"Enter the URL you were redirected to oi2: \")\n",
    "        print()\n",
    "        print() \n",
    "\n",
    "        code = sp_oauth.parse_response_code(response)\n",
    "        token_info = sp_oauth.get_access_token(code)\n",
    "    # Auth'ed API request\n",
    "    if token_info:\n",
    "        return token_info['access_token']\n",
    "    else:\n",
    "        return None"
   ]
  },
  {
   "cell_type": "code",
   "execution_count": 7,
   "metadata": {},
   "outputs": [
    {
     "ename": "SpotifyOauthError",
     "evalue": "No client id",
     "output_type": "error",
     "traceback": [
      "\u001b[1;31m---------------------------------------------------------------------------\u001b[0m",
      "\u001b[1;31mSpotifyOauthError\u001b[0m                         Traceback (most recent call last)",
      "\u001b[1;32m<ipython-input-7-d35db6fa547a>\u001b[0m in \u001b[0;36m<module>\u001b[1;34m()\u001b[0m\n\u001b[0;32m     16\u001b[0m \u001b[0mredirect_uri\u001b[0m \u001b[1;33m=\u001b[0m \u001b[1;34m'https://www.spotify.com'\u001b[0m\u001b[1;33m\u001b[0m\u001b[0m\n\u001b[0;32m     17\u001b[0m \u001b[0mscope\u001b[0m\u001b[1;33m=\u001b[0m\u001b[1;34m'playlist-modify-public playlist-modify-private playlist-read-private playlist-read-collaborative  user-library-modify'\u001b[0m\u001b[1;33m\u001b[0m\u001b[0m\n\u001b[1;32m---> 18\u001b[1;33m \u001b[0mclient_credentials_manager\u001b[0m \u001b[1;33m=\u001b[0m \u001b[0mSpotifyClientCredentials\u001b[0m\u001b[1;33m(\u001b[0m\u001b[0mclient_id\u001b[0m\u001b[1;33m=\u001b[0m\u001b[0mcid\u001b[0m\u001b[1;33m,\u001b[0m \u001b[0mclient_secret\u001b[0m\u001b[1;33m=\u001b[0m\u001b[0msecret\u001b[0m\u001b[1;33m)\u001b[0m\u001b[1;33m\u001b[0m\u001b[0m\n\u001b[0m\u001b[0;32m     19\u001b[0m \u001b[0mtoken\u001b[0m\u001b[1;33m=\u001b[0m\u001b[0mprompt_for_user_token\u001b[0m\u001b[1;33m(\u001b[0m\u001b[0mnome_do_usuario\u001b[0m\u001b[1;33m,\u001b[0m\u001b[0mscope\u001b[0m\u001b[1;33m,\u001b[0m \u001b[0mclient_id\u001b[0m\u001b[1;33m=\u001b[0m\u001b[0mcid\u001b[0m\u001b[1;33m,\u001b[0m\u001b[0mclient_secret\u001b[0m\u001b[1;33m=\u001b[0m\u001b[0msecret\u001b[0m\u001b[1;33m,\u001b[0m\u001b[0mredirect_uri\u001b[0m\u001b[1;33m=\u001b[0m\u001b[0mredirect_uri\u001b[0m\u001b[1;33m)\u001b[0m\u001b[1;33m\u001b[0m\u001b[0m\n\u001b[0;32m     20\u001b[0m \u001b[0msp\u001b[0m \u001b[1;33m=\u001b[0m\u001b[0mspotipy\u001b[0m\u001b[1;33m.\u001b[0m\u001b[0mSpotify\u001b[0m \u001b[1;33m(\u001b[0m \u001b[0mauth\u001b[0m \u001b[1;33m=\u001b[0m \u001b[0mtoken\u001b[0m \u001b[1;33m)\u001b[0m\u001b[1;33m\u001b[0m\u001b[0m\n",
      "\u001b[1;32mC:\\Users\\beatr\\Anaconda3.4\\lib\\site-packages\\spotipy\\oauth2.py\u001b[0m in \u001b[0;36m__init__\u001b[1;34m(self, client_id, client_secret, proxies)\u001b[0m\n\u001b[0;32m     37\u001b[0m \u001b[1;33m\u001b[0m\u001b[0m\n\u001b[0;32m     38\u001b[0m         \u001b[1;32mif\u001b[0m \u001b[1;32mnot\u001b[0m \u001b[0mclient_id\u001b[0m\u001b[1;33m:\u001b[0m\u001b[1;33m\u001b[0m\u001b[0m\n\u001b[1;32m---> 39\u001b[1;33m             \u001b[1;32mraise\u001b[0m \u001b[0mSpotifyOauthError\u001b[0m\u001b[1;33m(\u001b[0m\u001b[1;34m'No client id'\u001b[0m\u001b[1;33m)\u001b[0m\u001b[1;33m\u001b[0m\u001b[0m\n\u001b[0m\u001b[0;32m     40\u001b[0m \u001b[1;33m\u001b[0m\u001b[0m\n\u001b[0;32m     41\u001b[0m         \u001b[1;32mif\u001b[0m \u001b[1;32mnot\u001b[0m \u001b[0mclient_secret\u001b[0m\u001b[1;33m:\u001b[0m\u001b[1;33m\u001b[0m\u001b[0m\n",
      "\u001b[1;31mSpotifyOauthError\u001b[0m: No client id"
     ]
    }
   ],
   "source": [
    "import spotipy\n",
    "from spotipy.oauth2 import SpotifyClientCredentials \n",
    "import pprint\n",
    "import sys\n",
    "import os\n",
    "import subprocess\n",
    "import spotipy\n",
    "import spotipy.util as util\n",
    "import tkinter\n",
    "\n",
    "\n",
    "#Autorização\n",
    "cid =\"\" \n",
    "secret = \"\"\n",
    "nome_do_usuario=''\n",
    "redirect_uri = 'https://www.spotify.com'\n",
    "scope='playlist-modify-public playlist-modify-private playlist-read-private playlist-read-collaborative  user-library-modify'\n",
    "client_credentials_manager = SpotifyClientCredentials(client_id=cid, client_secret=secret) \n",
    "token=prompt_for_user_token(nome_do_usuario,scope, client_id=cid,client_secret=secret,redirect_uri=redirect_uri)\n",
    "sp =spotipy.Spotify ( auth = token ) \n",
    "sp.trace=False\n",
    "#dados do cliente para conseguir nome que aparece no spotify (que não necessariamente é o seu id)\n",
    "user_name = sp.me()\n",
    "#criando playlist\n",
    "nomeplaylist='Obrigada pela participação'+\" \" +user_name['display_name'] + \"!\"\n",
    "playlists = sp.user_playlist_create(user_name['id'], nomeplaylist)\n",
    "\n"
   ]
  },
  {
   "cell_type": "code",
   "execution_count": 3,
   "metadata": {},
   "outputs": [
    {
     "ename": "NameError",
     "evalue": "name 'sp' is not defined",
     "output_type": "error",
     "traceback": [
      "\u001b[1;31m---------------------------------------------------------------------------\u001b[0m",
      "\u001b[1;31mNameError\u001b[0m                                 Traceback (most recent call last)",
      "\u001b[1;32m<ipython-input-3-6424f0408c3c>\u001b[0m in \u001b[0;36m<module>\u001b[1;34m()\u001b[0m\n\u001b[0;32m      1\u001b[0m \u001b[1;31m#Adicionando músicas:\u001b[0m\u001b[1;33m\u001b[0m\u001b[1;33m\u001b[0m\u001b[0m\n\u001b[0;32m      2\u001b[0m \u001b[0mtrack_ids\u001b[0m\u001b[1;33m=\u001b[0m\u001b[1;33m[\u001b[0m\u001b[1;34m'4N3Ue0WvgvVvMhdScsItXc'\u001b[0m\u001b[1;33m,\u001b[0m\u001b[1;34m'7xDw5bvPPdJCcSZCkXw6fu'\u001b[0m\u001b[1;33m]\u001b[0m\u001b[1;33m\u001b[0m\u001b[0m\n\u001b[1;32m----> 3\u001b[1;33m \u001b[0mresults\u001b[0m  \u001b[1;33m=\u001b[0m  \u001b[0msp\u001b[0m \u001b[1;33m.\u001b[0m \u001b[0muser_playlist_add_tracks\u001b[0m \u001b[1;33m(\u001b[0m\u001b[0muser_name\u001b[0m\u001b[1;33m[\u001b[0m\u001b[1;34m'id'\u001b[0m\u001b[1;33m]\u001b[0m \u001b[1;33m,\u001b[0m\u001b[0mplaylists\u001b[0m\u001b[1;33m[\u001b[0m\u001b[1;34m'id'\u001b[0m\u001b[1;33m]\u001b[0m\u001b[1;33m,\u001b[0m  \u001b[0mtrack_ids\u001b[0m \u001b[1;33m)\u001b[0m\u001b[1;33m\u001b[0m\u001b[0m\n\u001b[0m",
      "\u001b[1;31mNameError\u001b[0m: name 'sp' is not defined"
     ]
    }
   ],
   "source": [
    "#Adicionando músicas:\n",
    "track_ids=['4N3Ue0WvgvVvMhdScsItXc','7xDw5bvPPdJCcSZCkXw6fu']\n",
    "results  =  sp . user_playlist_add_tracks (user_name['id'] ,playlists['id'],  track_ids )"
   ]
  },
  {
   "cell_type": "code",
   "execution_count": null,
   "metadata": {
    "collapsed": true
   },
   "outputs": [],
   "source": []
  }
 ],
 "metadata": {
  "language_info": {
   "codemirror_mode": {
    "name": "ipython",
    "version": 3
   },
   "file_extension": ".py",
   "mimetype": "text/x-python",
   "name": "python",
   "nbconvert_exporter": "python",
   "pygments_lexer": "ipython3",
   "version": "3.6.1"
  }
 },
 "nbformat": 4,
 "nbformat_minor": 2
}
