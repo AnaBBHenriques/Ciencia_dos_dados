{
 "cells": [
  {
   "cell_type": "code",
   "execution_count": 37,
   "metadata": {
    "collapsed": true
   },
   "outputs": [],
   "source": [
    "import numpy as np\n",
    "import matplotlib as plt\n",
    "import pandas as pd\n",
    "from scipy import stats\n",
    "import math\n",
    "\n",
    "%matplotlib inline"
   ]
  },
  {
   "cell_type": "code",
   "execution_count": 38,
   "metadata": {
    "collapsed": true
   },
   "outputs": [],
   "source": [
    "import pandas \n",
    "dados = [129.26, 204.49, 116.89, 106.4 , 95.3 , 123.35, 92.3 , 300.02, 264.34, 168.27, 80.02,117.96, 117.73, 370.47, 462.59, 92.58, 258.52, 82.59]\n",
    "dados = pd.Series(dados)\n",
    "n = len(dados)"
   ]
  },
  {
   "cell_type": "code",
   "execution_count": 39,
   "metadata": {},
   "outputs": [
    {
     "name": "stdout",
     "output_type": "stream",
     "text": [
      "Média:  176.83777777777777\n",
      "Desvio padrão amostral:  110.95287190067022\n"
     ]
    }
   ],
   "source": [
    "\n",
    "xbarra = np.mean(dados)\n",
    "dp = np.std(dados,ddof=1)\n",
    "\n",
    "print(\"Média: \", xbarra)\n",
    "print(\"Desvio padrão amostral: \", dp)"
   ]
  },
  {
   "cell_type": "code",
   "execution_count": 40,
   "metadata": {
    "collapsed": true
   },
   "outputs": [],
   "source": [
    "\n",
    "xbarra_Boot = []\n",
    "\n",
    "l= 10000\n",
    "for i in range(l):\n",
    "    amostra = np.random.choice(dados, size=n, replace=True)\n",
    "    xbarraB = np.mean(amostra)\n",
    "    xbarra_Boot.append(xbarraB)"
   ]
  },
  {
   "cell_type": "code",
   "execution_count": 41,
   "metadata": {},
   "outputs": [
    {
     "name": "stdout",
     "output_type": "stream",
     "text": [
      "Limite inferior: 130.525611111\n",
      "Limite superior: 230.449763889\n"
     ]
    }
   ],
   "source": [
    "\n",
    "\n",
    "inferior = np.percentile(xbarra_Boot, 2.5)\n",
    "superior = np.percentile(xbarra_Boot, 97.5)\n",
    "print('Limite inferior:', inferior)\n",
    "print('Limite superior:', superior)\n"
   ]
  },
  {
   "cell_type": "code",
   "execution_count": 42,
   "metadata": {
    "collapsed": true
   },
   "outputs": [],
   "source": [
    "\n",
    "\n",
    "dpbarra_Boot = []\n",
    "\n",
    "l= 10000\n",
    "for i in range(l):\n",
    "    amostra = np.random.choice(dados, size=n, replace=True)\n",
    "    dpbarraB = np.std(amostra,ddof=1)\n",
    "    dpbarra_Boot.append(dpbarraB)"
   ]
  },
  {
   "cell_type": "code",
   "execution_count": 43,
   "metadata": {},
   "outputs": [
    {
     "name": "stdout",
     "output_type": "stream",
     "text": [
      "Limite inferior: 59.2268673109\n",
      "Limite superior: 143.563659321\n"
     ]
    }
   ],
   "source": [
    "\n",
    "\n",
    "inferior = np.percentile(dpbarra_Boot, 2.5)\n",
    "superior = np.percentile(dpbarra_Boot, 97.5)\n",
    "print('Limite inferior:', inferior)\n",
    "print('Limite superior:', superior)\n"
   ]
  },
  {
   "cell_type": "markdown",
   "metadata": {},
   "source": [
    "Não,pois tanto a media quanto o desvio padrão esperados estão dentro de seus limites superior e inferior correspondentes.\n"
   ]
  }
 ],
 "metadata": {
  "kernelspec": {
   "display_name": "Python 3",
   "language": "python",
   "name": "python3"
  },
  "language_info": {
   "codemirror_mode": {
    "name": "ipython",
    "version": 3
   },
   "file_extension": ".py",
   "mimetype": "text/x-python",
   "name": "python",
   "nbconvert_exporter": "python",
   "pygments_lexer": "ipython3",
   "version": "3.6.1"
  }
 },
 "nbformat": 4,
 "nbformat_minor": 2
}
