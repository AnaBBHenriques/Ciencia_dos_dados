{
 "cells": [
  {
   "cell_type": "markdown",
   "metadata": {},
   "source": [
    "___\n",
    "# Ciência dos Dados - PROJETO 1"
   ]
  },
  {
   "cell_type": "markdown",
   "metadata": {},
   "source": [
    "## Ana Beatriz Bertolucci Henriques\n",
    "___"
   ]
  },
  {
   "cell_type": "markdown",
   "metadata": {},
   "source": [
    "## Qual o meio mais ultilizado para acessar a internet de acordo com a renda?Qual a mudança dessa utilização entre os anos 2013,2014 e 2015?"
   ]
  },
  {
   "cell_type": "markdown",
   "metadata": {},
   "source": [
    "___\n",
    "## Introdução\n",
    "\n",
    "\n",
    "\n",
    "\n",
    "Capriche no português!! \n",
    "Se quiser pode utilizar pesquisas semelhantes publicadas em sites confiáveis!!\n",
    "\n",
    "http://g1.globo.com/economia/seu-dinheiro/noticia/2013/08/veja-diferencas-entre-conceitos-que-definem-classes-sociais-no-brasil.html\n"
   ]
  },
  {
   "cell_type": "markdown",
   "metadata": {},
   "source": [
    "___\n",
    "## Análise e Resultados"
   ]
  },
  {
   "cell_type": "code",
   "execution_count": 362,
   "metadata": {
    "collapsed": true
   },
   "outputs": [],
   "source": [
    "%matplotlib inline\n",
    "import pandas as pd\n",
    "import matplotlib.pyplot as plt\n",
    "import numpy as np\n",
    "import os"
   ]
  },
  {
   "cell_type": "code",
   "execution_count": 363,
   "metadata": {},
   "outputs": [
    {
     "name": "stdout",
     "output_type": "stream",
     "text": [
      "Esperamos trabalhar no diretório\n",
      "C:\\Users\\beatr\\Downloads\n"
     ]
    }
   ],
   "source": [
    "print('Esperamos trabalhar no diretório')\n",
    "print(os.getcwd())"
   ]
  },
  {
   "cell_type": "code",
   "execution_count": 364,
   "metadata": {
    "scrolled": true
   },
   "outputs": [],
   "source": [
    "#Se usar o arquivo descompactado\n",
    "#pd.read_csv('DOM2015.csv',sep=',')\n",
    "\n",
    "dados2013=pd.read_csv('DOM2013csv.zip', compression='zip', header=0, sep=',', quotechar='\"')\n",
    "dados2014=pd.read_csv('DOM2014csv.zip', compression='zip', header=0, sep=',', quotechar='\"')\n",
    "dados2015=pd.read_csv('DOM2015csv.zip', compression='zip', header=0, sep=',', quotechar='\"')\n",
    "\n",
    "\n",
    "dados2014.columns = ['contagem', 'V0101', 'UF', 'V0102', 'V0103', 'V0104', 'V0105',\n",
    "       'V0106', 'V0201', 'V0202', 'V0203', 'V0204', 'V0205', 'V0206', 'V0207',\n",
    "       'V0208', 'V0209', 'V0210', 'V0211', 'V0212', 'V0213', 'V0214', 'V0215',\n",
    "       'V0216', 'V2016', 'V0217', 'V0218', 'V0219', 'V0220', 'V2020', 'V0221',\n",
    "       'V0222', 'V0223', 'V0224', 'V0225', 'V0226', 'V0227', 'V02270',\n",
    "       'V02271', 'V02272', 'V02273', 'V02274', 'V2027', 'V0228', 'V0229',\n",
    "       'V0230', 'V0231', 'MicroComputador', 'V02321', 'V02322', 'V02323', 'Telefone',\n",
    "       'Tablet', 'Tv', 'Outro', 'V02424', 'V02425', 'V02426', 'V2032',\n",
    "       'V4105', 'V4107', 'V4600', 'V4601', 'V4602', 'V4604', 'V4605', 'V4606',\n",
    "       'V4607', 'V4608', 'V4609', 'V4610', 'V4611', 'RendaMensal', 'UPA', 'V4617',\n",
    "       'V4618', 'V4620', 'RendaPerCapita', 'RendaPerCapita2','V33001', 'V33002',\n",
    "       'V33003', 'V33004', 'V4624', 'V9992']\n",
    "dados2013.columns\n",
    "dados2015.columns = ['contagem', 'V0101', 'UF', 'V0102', 'V0103', 'V0104', 'V0105',\n",
    "       'V0106', 'V0201', 'V0202', 'V0203', 'V0204', 'V0205', 'V0206', 'V0207',\n",
    "       'V0208', 'V0209', 'V0210', 'V0211', 'V0212', 'V0213', 'V0214', 'V0215',\n",
    "       'V0216', 'V2016', 'V0217', 'V0218', 'V0219', 'V0220', 'V2020', 'V0221',\n",
    "       'V0222', 'V0223', 'V0224', 'V0225', 'V0226', 'V0227', 'V02270',\n",
    "       'V02271', 'V02272', 'V02273', 'V02274', 'V2027', 'V0228', 'V0229',\n",
    "       'V0230', 'V0231', 'MicroComputador', 'V02321', 'V02322', 'V02323', 'Telefone',\n",
    "       'Tablet', 'Tv', 'Outro', 'V02424', 'V02425', 'V02426', 'V2032',\n",
    "       'V4105', 'V4107', 'V4600', 'V4601', 'V4602', 'V4604', 'V4605', 'V4606',\n",
    "       'V4607', 'V4608', 'V4609', 'V4610', 'V4611', 'RendaMensal', 'UPA', 'V4617',\n",
    "       'V4618', 'V4620', 'RendaPerCapita', 'RendaPerCapita2', 'V4624', 'V9992']\n",
    "\n",
    "\n",
    "\n",
    "dados2013.columns=['contagem', 'V0101', 'UF', 'V0102', 'V0103', 'V0104', 'V0105',\n",
    "       'V0106', 'V0201', 'V0202', 'V0203', 'V0204', 'V0205', 'V0206', 'V0207',\n",
    "       'V0208', 'V0209', 'V0210', 'V0211', 'V0212', 'V0213', 'V0214', 'V0215',\n",
    "       'V0216', 'V2016', 'V0217', 'V0218', 'V0219', 'V0220', 'V2020', 'V0221',\n",
    "       'V0222', 'V0223', 'V0224', 'V0225', 'V0226', 'V0227', 'V02270',\n",
    "       'V02271', 'V02272', 'V02273', 'V02274', 'V2027', 'V0228', 'V0229',\n",
    "       'V0230', 'V0231', 'MicroComputador', 'V02321', 'V02322', 'V02323', 'Telefone',\n",
    "       'Tablet', 'Tv', 'V02327', 'V02424', 'V02425', 'V02426', 'V2032',\n",
    "       'V4105', 'V4107', 'V4600', 'V4601', 'V4602', 'V4604', 'V4605', 'V4606',\n",
    "       'V4607', 'V4608', 'V4609', 'V4610', 'V4611', 'V4614', 'UPA', 'V4617',\n",
    "       'V4618', 'V4620', 'V4621', 'V4622', 'V4624', 'V2101', 'V2103', 'V2105',\n",
    "       'V2107', 'V2109', 'V2113', 'V2115', 'V2117', 'V2121', 'V2123', 'V2124',\n",
    "       'V2126', 'V2128', 'V2130', 'V2132', 'V2134', 'V2138', 'V2139', 'V9992']\n",
    "      \n",
    "\n",
    "\n",
    "#Se usar o arquivo compactado como está no dropbox púbico\n",
    "#pd.read_csv('PNADDOM2015.zip', compression='zip', header=0, sep=',', quotechar='\"')"
   ]
  },
  {
   "cell_type": "code",
   "execution_count": 365,
   "metadata": {
    "collapsed": true
   },
   "outputs": [],
   "source": [
    "oi0=dados2015.loc[dados2015.contagem,['MicroComputador','Tablet','Telefone','Tv','RendaPerCapita']]\n",
    "oi014=dados2014.loc[dados2014.contagem,['MicroComputador','Tablet','Telefone','Tv','RendaPerCapita']]\n",
    "oi013=dados2013.loc[dados2013.contagem,['MicroComputador','Tablet','Telefone','Tv','RendaPerCapita']]\n",
    "\n",
    "\n",
    "\n"
   ]
  },
  {
   "cell_type": "code",
   "execution_count": 366,
   "metadata": {
    "collapsed": true
   },
   "outputs": [],
   "source": [
    "oi0.Tablet= oi0.Tablet.astype('category')\n",
    "oi0.Telefone = oi0.Telefone.astype('category')\n",
    "oi0.MicroComputador = oi0.MicroComputador.astype('category')\n",
    "oi0.Tv= oi0.Tv.astype('category')\n",
    "\n",
    "\n",
    "\n",
    "oi0.Tablet.cat.categories = (['Sim', 'Não'])\n",
    "oi0.Telefone.cat.categories = (['Sim', 'Não'])\n",
    "oi0.MicroComputador.cat.categories = (['Sim', 'Não'])\n",
    "oi0.Tv.cat.categories = (['Sim', 'Não'])\n",
    "\n",
    "\n",
    "oi0\n",
    "\n",
    "oi014.Tablet= oi014.Tablet.astype('category')\n",
    "oi014.Telefone = oi014.Telefone.astype('category')\n",
    "oi014.MicroComputador = oi014.MicroComputador.astype('category')\n",
    "oi014.Tv= oi014.Tv.astype('category')\n",
    "\n",
    "\n",
    "\n",
    "oi014.Tablet.cat.categories = (['Sim', 'Não'])\n",
    "oi014.Telefone.cat.categories = (['Sim', 'Não'])\n",
    "oi014.MicroComputador.cat.categories = (['Sim', 'Não'])\n",
    "oi014.Tv.cat.categories = (['Sim', 'Não'])\n",
    "\n",
    "\n",
    "oi013.Tablet= oi013.Tablet.astype('category')\n",
    "oi013.Telefone = oi013.Telefone.astype('category')\n",
    "oi013.MicroComputador = oi013.MicroComputador.astype('category')\n",
    "oi013.Tv= oi013.Tv.astype('category')\n",
    "\n",
    "\n",
    "\n",
    "oi013.Tablet.cat.categories = (['Sim', 'Não'])\n",
    "oi013.Telefone.cat.categories = (['Sim', 'Não'])\n",
    "oi013.MicroComputador.cat.categories = (['Sim', 'Não'])\n",
    "oi013.Tv.cat.categories = (['Sim', 'Não'])\n",
    "\n",
    "\n"
   ]
  },
  {
   "cell_type": "code",
   "execution_count": 463,
   "metadata": {
    "collapsed": true
   },
   "outputs": [],
   "source": [
    "oi1=oi0.dropna()\n",
    "oi2=oi1.loc[(dados2015.RendaPerCapita<=999999999999)&(dados2015.RendaPerCapita!=0)]\n",
    "\n",
    "oi114=oi014.dropna()\n",
    "oi214=oi114.loc[(dados2014.RendaPerCapita<=999999999999)&(dados2014.RendaPerCapita!=0)]\n"
   ]
  },
  {
   "cell_type": "code",
   "execution_count": 464,
   "metadata": {},
   "outputs": [
    {
     "name": "stdout",
     "output_type": "stream",
     "text": [
      "       MicroComputador Tablet Telefone   Tv  RendaPerCapita\n",
      "2                  Sim    Não      Não  Não          1150.0\n",
      "3                  Sim    Não      Sim  Não           793.0\n",
      "5                  Sim    Não      Não  Não          1990.0\n",
      "8                  Sim    Não      Sim  Não           818.0\n",
      "10                 Sim    Não      Sim  Não          1716.0\n",
      "11                 Sim    Não      Sim  Não          2500.0\n",
      "13                 Sim    Não      Sim  Não          1400.0\n",
      "15                 Sim    Não      Sim  Não           666.0\n",
      "18                 Sim    Não      Sim  Não          1437.0\n",
      "19                 Sim    Não      Não  Não           600.0\n",
      "20                 Sim    Não      Sim  Não           933.0\n",
      "27                 Sim    Não      Sim  Não          3325.0\n",
      "28                 Sim    Não      Sim  Não          3500.0\n",
      "29                 Sim    Não      Sim  Não          1172.0\n",
      "31                 Sim    Sim      Sim  Não          3000.0\n",
      "32                 Sim    Não      Não  Não           366.0\n",
      "33                 Sim    Não      Não  Não           175.0\n",
      "37                 Sim    Não      Sim  Não           596.0\n",
      "39                 Sim    Sim      Sim  Não           196.0\n",
      "42                 Sim    Não      Não  Não           975.0\n",
      "43                 Sim    Não      Não  Não           850.0\n",
      "44                 Sim    Não      Sim  Não          2000.0\n",
      "45                 Sim    Não      Não  Não           480.0\n",
      "50                 Sim    Não      Sim  Não           666.0\n",
      "72                 Não    Não      Sim  Não           590.0\n",
      "74                 Sim    Não      Sim  Não           625.0\n",
      "79                 Sim    Não      Sim  Não          1766.0\n",
      "80                 Sim    Não      Sim  Não          2900.0\n",
      "87                 Sim    Não      Sim  Não           184.0\n",
      "93                 Sim    Não      Sim  Não           512.0\n",
      "...                ...    ...      ...  ...             ...\n",
      "151116             Sim    Sim      Sim  Não           987.0\n",
      "151118             Não    Não      Sim  Não           734.0\n",
      "151120             Sim    Não      Sim  Não           806.0\n",
      "151123             Sim    Não      Sim  Não          1350.0\n",
      "151124             Sim    Não      Sim  Não          1037.0\n",
      "151125             Sim    Não      Sim  Não          1162.0\n",
      "151126             Sim    Não      Sim  Não           623.0\n",
      "151131             Sim    Não      Sim  Não           600.0\n",
      "151132             Sim    Não      Sim  Não           690.0\n",
      "151134             Sim    Não      Sim  Não           571.0\n",
      "151135             Sim    Não      Sim  Não           416.0\n",
      "151139             Sim    Não      Sim  Não           394.0\n",
      "151140             Sim    Não      Sim  Não           525.0\n",
      "151143             Sim    Não      Sim  Não          2527.0\n",
      "151144             Sim    Não      Sim  Não          2500.0\n",
      "151147             Sim    Não      Não  Não          1109.0\n",
      "151158             Sim    Não      Sim  Não          5166.0\n",
      "151159             Sim    Não      Sim  Sim          6066.0\n",
      "151161             Sim    Não      Sim  Não          6200.0\n",
      "151163             Sim    Sim      Sim  Sim          2500.0\n",
      "151164             Sim    Sim      Sim  Sim          6000.0\n",
      "151165             Sim    Sim      Sim  Sim          7600.0\n",
      "151167             Sim    Sim      Sim  Não          9375.0\n",
      "151168             Sim    Sim      Sim  Sim         19850.0\n",
      "151169             Sim    Não      Sim  Sim         10566.0\n",
      "151170             Sim    Sim      Sim  Não         15320.0\n",
      "151171             Sim    Não      Sim  Sim          3250.0\n",
      "151175             Sim    Não      Sim  Não           635.0\n",
      "151182             Sim    Não      Sim  Não           775.0\n",
      "151188             Sim    Não      Sim  Não           259.0\n",
      "\n",
      "[48671 rows x 5 columns]\n",
      "       MicroComputador Tablet Telefone   Tv  RendaPerCapita\n",
      "1                  Sim    Não      Não  Não    1.150000e+03\n",
      "3                  Sim    Não      Sim  Não    1.700000e+03\n",
      "4                  Sim    Não      Sim  Não    8.550000e+02\n",
      "6                  Sim    Não      Sim  Não    3.220000e+03\n",
      "7                  Não    Não      Sim  Não    9.330000e+02\n",
      "10                 Sim    Não      Sim  Não    8.040000e+02\n",
      "11                 Sim    Sim      Sim  Não    1.000000e+12\n",
      "13                 Não    Não      Sim  Não    1.250000e+03\n",
      "16                 Sim    Não      Sim  Não    4.440000e+02\n",
      "17                 Sim    Não      Sim  Não    1.283000e+03\n",
      "18                 Sim    Não      Sim  Não    9.660000e+02\n",
      "22                 Sim    Não      Sim  Não    2.000000e+03\n",
      "23                 Sim    Não      Não  Não    2.862000e+03\n",
      "25                 Sim    Não      Não  Não    7.660000e+02\n",
      "26                 Não    Não      Sim  Não    1.566000e+03\n",
      "32                 Sim    Não      Sim  Não    2.240000e+02\n",
      "35                 Sim    Não      Sim  Não    6.660000e+02\n",
      "37                 Sim    Não      Não  Não    1.100000e+03\n",
      "38                 Não    Não      Sim  Não    4.920000e+02\n",
      "43                 Sim    Não      Sim  Não    8.560000e+02\n",
      "45                 Sim    Não      Sim  Não    6.150000e+02\n",
      "46                 Não    Não      Sim  Não    4.070000e+02\n",
      "47                 Sim    Sim      Sim  Não    1.000000e+12\n",
      "48                 Sim    Não      Sim  Sim    1.248000e+03\n",
      "51                 Sim    Não      Não  Não    1.554000e+03\n",
      "53                 Sim    Não      Sim  Não    9.480000e+02\n",
      "57                 Não    Não      Sim  Não    4.600000e+02\n",
      "62                 Não    Não      Sim  Não    3.900000e+02\n",
      "63                 Não    Não      Sim  Não    1.000000e+12\n",
      "72                 Sim    Não      Sim  Não    1.100000e+03\n",
      "...                ...    ...      ...  ...             ...\n",
      "151222             Sim    Não      Sim  Não    1.000000e+12\n",
      "151223             Sim    Não      Sim  Não    1.666000e+03\n",
      "151226             Sim    Não      Não  Não    3.306000e+03\n",
      "151228             Sim    Não      Sim  Não    3.317000e+03\n",
      "151231             Sim    Sim      Sim  Não    3.640000e+02\n",
      "151233             Sim    Não      Sim  Não    2.900000e+02\n",
      "151236             Sim    Sim      Sim  Não    4.400000e+02\n",
      "151239             Sim    Não      Não  Não    1.500000e+03\n",
      "151240             Sim    Sim      Sim  Não    5.830000e+02\n",
      "151242             Sim    Sim      Sim  Não    3.000000e+02\n",
      "151245             Sim    Não      Não  Não    1.000000e+03\n",
      "151246             Sim    Não      Não  Não    5.040000e+02\n",
      "151250             Sim    Não      Sim  Não    2.050000e+03\n",
      "151253             Sim    Não      Sim  Não    1.800000e+03\n",
      "151255             Sim    Não      Não  Não    8.360000e+02\n",
      "151258             Sim    Sim      Sim  Não    1.742500e+04\n",
      "151260             Sim    Sim      Sim  Não    1.500000e+04\n",
      "151261             Sim    Não      Não  Não    8.000000e+03\n",
      "151262             Sim    Sim      Sim  Não    3.500000e+03\n",
      "151263             Sim    Não      Sim  Não    8.600000e+03\n",
      "151265             Sim    Não      Não  Não    6.600000e+03\n",
      "151266             Sim    Não      Sim  Não    2.600000e+03\n",
      "151267             Sim    Não      Sim  Não    1.000000e+12\n",
      "151271             Sim    Sim      Sim  Sim    5.600000e+03\n",
      "151272             Sim    Sim      Sim  Não    1.000000e+12\n",
      "151273             Sim    Sim      Sim  Não    4.310000e+03\n",
      "151274             Sim    Não      Sim  Não    9.950000e+02\n",
      "151279             Sim    Não      Sim  Não    6.830000e+02\n",
      "151281             Sim    Sim      Sim  Sim    9.500000e+02\n",
      "151284             Sim    Não      Sim  Não    1.199000e+03\n",
      "\n",
      "[51123 rows x 5 columns]\n",
      "       RendaPerCapita\n",
      "count    5.112300e+04\n",
      "mean     4.246621e+10\n",
      "std      2.016522e+11\n",
      "min      1.100000e+01\n",
      "25%      6.500000e+02\n",
      "50%      1.124000e+03\n",
      "75%      2.216000e+03\n",
      "max      1.000000e+12\n",
      "       RendaPerCapita\n",
      "count    4.867100e+04\n",
      "mean     2.560046e+10\n",
      "std      1.579417e+11\n",
      "min      8.000000e+00\n",
      "25%      6.660000e+02\n",
      "50%      1.162000e+03\n",
      "75%      2.242500e+03\n",
      "max      1.000000e+12\n"
     ]
    }
   ],
   "source": [
    "print(oi2)\n",
    "\n",
    "print(oi214)\n",
    "\n",
    "print(oi214.describe())\n",
    "\n",
    "print(oi2.describe())"
   ]
  },
  {
   "cell_type": "code",
   "execution_count": 470,
   "metadata": {},
   "outputs": [
    {
     "data": {
      "text/plain": [
       "(8, 708]        35.280374\n",
       "(708, 1408]     39.308314\n",
       "(1408, 2108]    17.289720\n",
       "(2108, 2808]     8.121593\n",
       "Name: RendaPerCapita, dtype: float64"
      ]
     },
     "execution_count": 470,
     "metadata": {},
     "output_type": "execute_result"
    }
   ],
   "source": [
    "from numpy import arange\n",
    "faixa = arange(8,3000,700)\n",
    "oi4= pd.cut(oi2.RendaPerCapita, bins=faixa)\n",
    "oi4.value_counts(sort=False, normalize=True)*100\n",
    "\n",
    "\n",
    "from numpy import arange\n",
    "faixa = arange(8,3000,700)\n",
    "oi414=pd.cut(oi214.RendaPerCapita, bins=faixa)\n",
    "oi414.value_counts(sort=False, normalize=True)*100\n",
    "\n",
    "\n"
   ]
  },
  {
   "cell_type": "code",
   "execution_count": 471,
   "metadata": {},
   "outputs": [
    {
     "data": {
      "text/plain": [
       "<matplotlib.text.Text at 0x1740e1a99b0>"
      ]
     },
     "execution_count": 471,
     "metadata": {},
     "output_type": "execute_result"
    },
    {
     "data": {
      "image/png": "[encoded data removed]",
      "text/plain": [
       "<matplotlib.figure.Figure at 0x1740777e978>"
      ]
     },
     "metadata": {},
     "output_type": "display_data"
    }
   ],
   "source": [
    "plot = oi2.RendaPerCapita.plot.hist(bins=faixa,title='GRAFICO DE COLUNAS', figsize=(6, 6), alpha=0.9)\n",
    "plt.ylabel('Frequência absoluta')\n",
    "plt.xlabel('renda (em reais)')\n",
    "\n",
    "plot2 = oi214.RendaPerCapita.plot.hist(bins=faixa,title='GRAFICO DE COLUNAS', figsize=(6, 6), alpha=0.9)\n",
    "plt.ylabel('Frequência absoluta')\n",
    "plt.xlabel('renda (em reais)')\n",
    "\n",
    "\n"
   ]
  },
  {
   "cell_type": "code",
   "execution_count": 472,
   "metadata": {},
   "outputs": [
    {
     "name": "stdout",
     "output_type": "stream",
     "text": [
      "25600462089.741264\n",
      "42466210701.27903\n"
     ]
    }
   ],
   "source": [
    "print(oi2.RendaPerCapita.mean())\n",
    "\n",
    "print(oi214.RendaPerCapita.mean())"
   ]
  },
  {
   "cell_type": "code",
   "execution_count": 473,
   "metadata": {},
   "outputs": [
    {
     "name": "stdout",
     "output_type": "stream",
     "text": [
      "Tabela Cruzada por total de COLUNAS (em %):\n",
      "Tv             Sim   Não    All\n",
      "Renda                          \n",
      "(8, 708]       3.0  97.0  100.0\n",
      "(708, 1408]    6.0  94.0  100.0\n",
      "(1408, 2108]  10.0  90.0  100.0\n",
      "(2108, 2808]  15.0  85.0  100.0\n",
      "All            7.0  93.0  100.0\n"
     ]
    }
   ],
   "source": [
    "print('Tabela Cruzada por total de COLUNAS (em %):')\n",
    "\n",
    "def percConvert(tab):\n",
    "  return (tab/float(tab[-1])*100).round(decimals=0)\n",
    "\n",
    "\n",
    "ct2015tv=pd.crosstab(oi4,oi2.Tv,margins=True,rownames=['Renda'], colnames=['Tv']).apply(percConvert, axis=1).dropna()\n",
    "\n",
    "ct2015tab=pd.crosstab(oi4,oi2.Tablet,margins=True,rownames=['Renda'], colnames=['Tablet']).apply(percConvert, axis=1).dropna()\n",
    "\n",
    "ct2015tel=pd.crosstab(oi4,oi2.Telefone,margins=True,rownames=['Renda'], colnames=['Telefone']).apply(percConvert, axis=1).dropna()\n",
    "\n",
    "ct2015pc=pd.crosstab(oi4,oi2.MicroComputador,margins=True,rownames=['Renda'], colnames=['Microcomputador']).apply(percConvert, axis=1).dropna()\n",
    "\n",
    "\n",
    "ct2014pc=pd.crosstab(oi414,oi214.Telefone,margins=True,rownames=['Renda'], colnames=['Telefone']).apply(percConvert, axis=1).dropna()\n",
    "\n",
    "ct2014tab=pd.crosstab(oi414,oi214.Tablet,margins=True,rownames=['Renda'], colnames=['Tablet']).apply(percConvert, axis=1).dropna()\n",
    "\n",
    "ct2014pc=pd.crosstab(oi414,oi214.MicroComputador,margins=True,rownames=['Renda'], colnames=['Microcomputador']).apply(percConvert, axis=1).dropna()\n",
    "\n",
    "ct2014tv=pd.crosstab(oi414,oi214.Tv,margins=True,rownames=['Renda'], colnames=['Tv']).apply(percConvert, axis=1).dropna()\n",
    "\n",
    "\n",
    "\n",
    "\n",
    "print(ct2015tv)\n",
    "\n"
   ]
  },
  {
   "cell_type": "code",
   "execution_count": 474,
   "metadata": {
    "scrolled": false
   },
   "outputs": [
    {
     "data": {
      "text/plain": [
       "<matplotlib.legend.Legend at 0x1740ed2d940>"
      ]
     },
     "execution_count": 474,
     "metadata": {},
     "output_type": "execute_result"
    },
    {
     "data": {
      "image/png": "[encoded data removed]",
      "text/plain": [
       "<matplotlib.figure.Figure at 0x1740e0b2898>"
      ]
     },
     "metadata": {},
     "output_type": "display_data"
    },
    {
     "data": {
      "image/png": "[encoded data removed]",
      "text/plain": [
       "<matplotlib.figure.Figure at 0x17405391748>"
      ]
     },
     "metadata": {},
     "output_type": "display_data"
    },
    {
     "data": {
      "image/png": "[encoded data removed]",
      "text/plain": [
       "<matplotlib.figure.Figure at 0x174095325f8>"
      ]
     },
     "metadata": {},
     "output_type": "display_data"
    },
    {
     "data": {
      "image/png": "[encoded data removed]",
      "text/plain": [
       "<matplotlib.figure.Figure at 0x1740935ccc0>"
      ]
     },
     "metadata": {},
     "output_type": "display_data"
    },
    {
     "data": {
      "image/png": "[encoded data removed]",
      "text/plain": [
       "<matplotlib.figure.Figure at 0x1740ee7af60>"
      ]
     },
     "metadata": {},
     "output_type": "display_data"
    },
    {
     "data": {
      "image/png": "[encoded data removed]",
      "text/plain": [
       "<matplotlib.figure.Figure at 0x1740ec73748>"
      ]
     },
     "metadata": {},
     "output_type": "display_data"
    },
    {
     "data": {
      "image/png": "[encoded data removed]",
      "text/plain": [
       "<matplotlib.figure.Figure at 0x1740ed2d9b0>"
      ]
     },
     "metadata": {},
     "output_type": "display_data"
    },
    {
     "data": {
      "image/png": "[encoded data removed]",
      "text/plain": [
       "<matplotlib.figure.Figure at 0x1740ede6c18>"
      ]
     },
     "metadata": {},
     "output_type": "display_data"
    }
   ],
   "source": [
    "ct2014tab = ct2014tab.iloc[:,0:2]\n",
    "plot = ct2014tab.plot(kind='bar', stacked=True,title='Tablet por renda 2014')\n",
    "plot.set_ylim([0, 100])\n",
    "plt.ylabel('Freq.Relativa (em%)')\n",
    "#Para legenda ficar fora do gráfico\n",
    "ax = plt.subplot(111)\n",
    "box = ax.get_position()\n",
    "ax.set_position([box.x0, box.y0, box.width * 0.8, box.height])\n",
    "ax.legend(loc='center left', bbox_to_anchor=(1, 0.5))\n",
    "\n",
    "\n",
    "ct2015tab = ct2015tab.iloc[:,0:2]\n",
    "plot = ct2015tab.plot(kind='bar', stacked=True,title='Tablet por renda 2015')\n",
    "plot.set_ylim([0, 100])\n",
    "plt.ylabel('Freq.Relativa (em%)')\n",
    "#Para legenda ficar fora do gráfico\n",
    "ax = plt.subplot(111)\n",
    "box = ax.get_position()\n",
    "ax.set_position([box.x0, box.y0, box.width * 0.8, box.height])\n",
    "ax.legend(loc='center left', bbox_to_anchor=(1, 0.5))\n",
    "\n",
    "ct2014tel= ct2014tel.iloc[:,0:2]\n",
    "plot = ct2014tel.plot(kind='bar', stacked=True,title='Telefone por renda2014')\n",
    "plot.set_ylim([0, 100])\n",
    "plt.ylabel('Freq.Relativa (em%)')\n",
    "#Para legenda ficar fora do gráfico\n",
    "ax = plt.subplot(111)\n",
    "box = ax.get_position()\n",
    "ax.set_position([box.x0, box.y0, box.width * 0.8, box.height])\n",
    "ax.legend(loc='center left', bbox_to_anchor=(1, 0.5))\n",
    "\n",
    "\n",
    "\n",
    "ct2015tel= ct2015tel.iloc[:,0:2]\n",
    "plot = ct2015tel.plot(kind='bar', stacked=True,title='Telefone por renda2015')\n",
    "plot.set_ylim([0, 100])\n",
    "plt.ylabel('Freq.Relativa (em%)')\n",
    "#Para legenda ficar fora do gráfico\n",
    "ax = plt.subplot(111)\n",
    "box = ax.get_position()\n",
    "ax.set_position([box.x0, box.y0, box.width * 0.8, box.height])\n",
    "ax.legend(loc='center left', bbox_to_anchor=(1, 0.5))\n",
    "\n",
    "ct2014tv= ct2014tv.iloc[:,0:2]\n",
    "plot = ct2014tv.plot(kind='bar', stacked=True,title='Tv por renda 2014')\n",
    "plot.set_ylim([0, 100])\n",
    "plt.ylabel('Freq.Relativa (em%)')\n",
    "#Para legenda ficar fora do gráfico\n",
    "ax = plt.subplot(111)\n",
    "box = ax.get_position()\n",
    "ax.set_position([box.x0, box.y0, box.width * 0.8, box.height])\n",
    "ax.legend(loc='center left', bbox_to_anchor=(1, 0.5))\n",
    "\n",
    "ct2015tv= ct2015tv.iloc[:,0:2]\n",
    "plot = ct2015tv.plot(kind='bar', stacked=True,title='Tv por renda 2015')\n",
    "plot.set_ylim([0, 100])\n",
    "plt.ylabel('Freq.Relativa (em%)')\n",
    "#Para legenda ficar fora do gráfico\n",
    "ax = plt.subplot(111)\n",
    "box = ax.get_position()\n",
    "ax.set_position([box.x0, box.y0, box.width * 0.8, box.height])\n",
    "ax.legend(loc='center left', bbox_to_anchor=(1, 0.5))\n",
    "\n",
    "ct2014pc= ct2014pc.iloc[:,0:2]\n",
    "plot = ct2014pc.plot(kind='bar', stacked=True,title='Microcomputador por renda2014')\n",
    "plot.set_ylim([0, 100])\n",
    "plt.ylabel('Freq.Relativa (em%)')\n",
    "#Para legenda ficar fora do gráfico\n",
    "ax = plt.subplot(111)\n",
    "box = ax.get_position()\n",
    "ax.set_position([box.x0, box.y0, box.width * 0.8, box.height])\n",
    "ax.legend(loc='center left', bbox_to_anchor=(1, 0.5))\n",
    "\n",
    "\n",
    "\n",
    "ct2015pc= ct2015pc.iloc[:,0:2]\n",
    "plot = ct2015pc.plot(kind='bar', stacked=True,title='Microcomputador por renda2015')\n",
    "plot.set_ylim([0, 100])\n",
    "plt.ylabel('Freq.Relativa (em%)')\n",
    "#Para legenda ficar fora do gráfico\n",
    "ax = plt.subplot(111)\n",
    "box = ax.get_position()\n",
    "ax.set_position([box.x0, box.y0, box.width * 0.8, box.height])\n",
    "ax.legend(loc='center left', bbox_to_anchor=(1, 0.5))"
   ]
  },
  {
   "cell_type": "code",
   "execution_count": null,
   "metadata": {},
   "outputs": [],
   "source": [
    "\n"
   ]
  },
  {
   "cell_type": "code",
   "execution_count": null,
   "metadata": {},
   "outputs": [],
   "source": []
  },
  {
   "cell_type": "code",
   "execution_count": null,
   "metadata": {
    "collapsed": true
   },
   "outputs": [],
   "source": []
  },
  {
   "cell_type": "code",
   "execution_count": null,
   "metadata": {
    "collapsed": true
   },
   "outputs": [],
   "source": []
  },
  {
   "cell_type": "code",
   "execution_count": null,
   "metadata": {
    "collapsed": true
   },
   "outputs": [],
   "source": []
  },
  {
   "cell_type": "markdown",
   "metadata": {},
   "source": [
    "___\n",
    "## Conclusão "
   ]
  },
  {
   "cell_type": "code",
   "execution_count": null,
   "metadata": {
    "collapsed": true
   },
   "outputs": [],
   "source": []
  },
  {
   "cell_type": "markdown",
   "metadata": {
    "collapsed": true
   },
   "source": [
    "Descreva aqui suas conclusões!"
   ]
  },
  {
   "cell_type": "code",
   "execution_count": null,
   "metadata": {
    "collapsed": true
   },
   "outputs": [],
   "source": []
  }
 ],
 "metadata": {
  "anaconda-cloud": {},
  "kernelspec": {
   "display_name": "Python 3",
   "language": "python",
   "name": "python3"
  },
  "language_info": {
   "codemirror_mode": {
    "name": "ipython",
    "version": 3
   },
   "file_extension": ".py",
   "mimetype": "text/x-python",
   "name": "python",
   "nbconvert_exporter": "python",
   "pygments_lexer": "ipython3",
   "version": "3.6.1"
  }
 },
 "nbformat": 4,
 "nbformat_minor": 1
}
